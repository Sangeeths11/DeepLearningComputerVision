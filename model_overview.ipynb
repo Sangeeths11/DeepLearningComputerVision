{
 "cells": [
  {
   "cell_type": "code",
   "execution_count": 1,
   "metadata": {},
   "outputs": [],
   "source": [
    "import wandb"
   ]
  },
  {
   "cell_type": "code",
   "execution_count": 2,
   "metadata": {},
   "outputs": [],
   "source": [
    "run = wandb.Api().run(\"/silvan-wiedmer-fhgr/VisionTransformer/runs/3s7lhtef\")"
   ]
  },
  {
   "cell_type": "code",
   "execution_count": 3,
   "metadata": {},
   "outputs": [
    {
     "data": {
      "text/plain": [
       "{'_runtime': 552.536836667, '_step': 101, '_timestamp': 1727429122.0140896, '_wandb': {'runtime': 552}, 'confusion-matrix': {'_type': 'image-file', 'format': 'png', 'height': 480, 'path': 'media/images/confusion-matrix_101_bbae2909cf13e9de65d4.png', 'sha256': 'bbae2909cf13e9de65d44712ed2323716c5b17cc007d136c6e2e572c2594ff81', 'size': 24283, 'width': 640}, 'epoch/accuracy': 1, 'epoch/epoch': 99, 'epoch/learning_rate': 0.0010000000474974513, 'epoch/loss': 0.3520642817020416, 'epoch/val_accuracy': 0.8888888955116272, 'epoch/val_loss': 0.3337496817111969, 'test_accc': 0.8253424763679504, 'test_loss': 0.453955203294754}"
      ]
     },
     "execution_count": 3,
     "metadata": {},
     "output_type": "execute_result"
    }
   ],
   "source": [
    "run.summary"
   ]
  },
  {
   "cell_type": "code",
   "execution_count": 4,
   "metadata": {},
   "outputs": [
    {
     "data": {
      "text/html": [
       "<div>\n",
       "<style scoped>\n",
       "    .dataframe tbody tr th:only-of-type {\n",
       "        vertical-align: middle;\n",
       "    }\n",
       "\n",
       "    .dataframe tbody tr th {\n",
       "        vertical-align: top;\n",
       "    }\n",
       "\n",
       "    .dataframe thead th {\n",
       "        text-align: right;\n",
       "    }\n",
       "</style>\n",
       "<table border=\"1\" class=\"dataframe\">\n",
       "  <thead>\n",
       "    <tr style=\"text-align: right;\">\n",
       "      <th></th>\n",
       "      <th>epoch/val_accuracy</th>\n",
       "      <th>epoch/learning_rate</th>\n",
       "      <th>epoch/accuracy</th>\n",
       "      <th>epoch/val_loss</th>\n",
       "      <th>_step</th>\n",
       "      <th>_runtime</th>\n",
       "      <th>test_loss</th>\n",
       "      <th>epoch/loss</th>\n",
       "      <th>_timestamp</th>\n",
       "      <th>confusion-matrix</th>\n",
       "      <th>epoch/epoch</th>\n",
       "      <th>test_accc</th>\n",
       "    </tr>\n",
       "  </thead>\n",
       "  <tbody>\n",
       "    <tr>\n",
       "      <th>0</th>\n",
       "      <td>0.526786</td>\n",
       "      <td>0.001</td>\n",
       "      <td>0.486096</td>\n",
       "      <td>0.689646</td>\n",
       "      <td>0</td>\n",
       "      <td>18.109223</td>\n",
       "      <td>NaN</td>\n",
       "      <td>1.002055</td>\n",
       "      <td>1.727429e+09</td>\n",
       "      <td>None</td>\n",
       "      <td>0.0</td>\n",
       "      <td>NaN</td>\n",
       "    </tr>\n",
       "    <tr>\n",
       "      <th>1</th>\n",
       "      <td>0.666667</td>\n",
       "      <td>0.001</td>\n",
       "      <td>0.562500</td>\n",
       "      <td>0.677286</td>\n",
       "      <td>1</td>\n",
       "      <td>18.280962</td>\n",
       "      <td>NaN</td>\n",
       "      <td>0.688837</td>\n",
       "      <td>1.727429e+09</td>\n",
       "      <td>None</td>\n",
       "      <td>1.0</td>\n",
       "      <td>NaN</td>\n",
       "    </tr>\n",
       "    <tr>\n",
       "      <th>2</th>\n",
       "      <td>0.544643</td>\n",
       "      <td>0.001</td>\n",
       "      <td>0.506118</td>\n",
       "      <td>0.691357</td>\n",
       "      <td>2</td>\n",
       "      <td>29.311693</td>\n",
       "      <td>NaN</td>\n",
       "      <td>0.692821</td>\n",
       "      <td>1.727429e+09</td>\n",
       "      <td>None</td>\n",
       "      <td>2.0</td>\n",
       "      <td>NaN</td>\n",
       "    </tr>\n",
       "    <tr>\n",
       "      <th>3</th>\n",
       "      <td>0.222222</td>\n",
       "      <td>0.001</td>\n",
       "      <td>0.468750</td>\n",
       "      <td>0.693214</td>\n",
       "      <td>3</td>\n",
       "      <td>29.466898</td>\n",
       "      <td>NaN</td>\n",
       "      <td>0.691901</td>\n",
       "      <td>1.727429e+09</td>\n",
       "      <td>None</td>\n",
       "      <td>3.0</td>\n",
       "      <td>NaN</td>\n",
       "    </tr>\n",
       "    <tr>\n",
       "      <th>4</th>\n",
       "      <td>0.540179</td>\n",
       "      <td>0.001</td>\n",
       "      <td>0.537264</td>\n",
       "      <td>0.685560</td>\n",
       "      <td>4</td>\n",
       "      <td>40.290938</td>\n",
       "      <td>NaN</td>\n",
       "      <td>0.692656</td>\n",
       "      <td>1.727429e+09</td>\n",
       "      <td>None</td>\n",
       "      <td>4.0</td>\n",
       "      <td>NaN</td>\n",
       "    </tr>\n",
       "    <tr>\n",
       "      <th>...</th>\n",
       "      <td>...</td>\n",
       "      <td>...</td>\n",
       "      <td>...</td>\n",
       "      <td>...</td>\n",
       "      <td>...</td>\n",
       "      <td>...</td>\n",
       "      <td>...</td>\n",
       "      <td>...</td>\n",
       "      <td>...</td>\n",
       "      <td>...</td>\n",
       "      <td>...</td>\n",
       "      <td>...</td>\n",
       "    </tr>\n",
       "    <tr>\n",
       "      <th>97</th>\n",
       "      <td>0.777778</td>\n",
       "      <td>0.001</td>\n",
       "      <td>0.718750</td>\n",
       "      <td>0.430567</td>\n",
       "      <td>97</td>\n",
       "      <td>539.647954</td>\n",
       "      <td>NaN</td>\n",
       "      <td>0.504339</td>\n",
       "      <td>1.727429e+09</td>\n",
       "      <td>None</td>\n",
       "      <td>97.0</td>\n",
       "      <td>NaN</td>\n",
       "    </tr>\n",
       "    <tr>\n",
       "      <th>98</th>\n",
       "      <td>0.785714</td>\n",
       "      <td>0.001</td>\n",
       "      <td>0.757543</td>\n",
       "      <td>0.470704</td>\n",
       "      <td>98</td>\n",
       "      <td>550.599944</td>\n",
       "      <td>NaN</td>\n",
       "      <td>0.495521</td>\n",
       "      <td>1.727429e+09</td>\n",
       "      <td>None</td>\n",
       "      <td>98.0</td>\n",
       "      <td>NaN</td>\n",
       "    </tr>\n",
       "    <tr>\n",
       "      <th>99</th>\n",
       "      <td>0.888889</td>\n",
       "      <td>0.001</td>\n",
       "      <td>1.000000</td>\n",
       "      <td>0.333750</td>\n",
       "      <td>99</td>\n",
       "      <td>550.668174</td>\n",
       "      <td>NaN</td>\n",
       "      <td>0.352064</td>\n",
       "      <td>1.727429e+09</td>\n",
       "      <td>None</td>\n",
       "      <td>99.0</td>\n",
       "      <td>NaN</td>\n",
       "    </tr>\n",
       "    <tr>\n",
       "      <th>100</th>\n",
       "      <td>NaN</td>\n",
       "      <td>NaN</td>\n",
       "      <td>NaN</td>\n",
       "      <td>NaN</td>\n",
       "      <td>100</td>\n",
       "      <td>551.152930</td>\n",
       "      <td>0.453955</td>\n",
       "      <td>NaN</td>\n",
       "      <td>1.727429e+09</td>\n",
       "      <td>None</td>\n",
       "      <td>NaN</td>\n",
       "      <td>0.825342</td>\n",
       "    </tr>\n",
       "    <tr>\n",
       "      <th>101</th>\n",
       "      <td>NaN</td>\n",
       "      <td>NaN</td>\n",
       "      <td>NaN</td>\n",
       "      <td>NaN</td>\n",
       "      <td>101</td>\n",
       "      <td>552.536837</td>\n",
       "      <td>NaN</td>\n",
       "      <td>NaN</td>\n",
       "      <td>1.727429e+09</td>\n",
       "      <td>{'format': 'png', 'path': 'media/images/confus...</td>\n",
       "      <td>NaN</td>\n",
       "      <td>NaN</td>\n",
       "    </tr>\n",
       "  </tbody>\n",
       "</table>\n",
       "<p>102 rows × 12 columns</p>\n",
       "</div>"
      ],
      "text/plain": [
       "     epoch/val_accuracy  epoch/learning_rate  epoch/accuracy  epoch/val_loss  \\\n",
       "0              0.526786                0.001        0.486096        0.689646   \n",
       "1              0.666667                0.001        0.562500        0.677286   \n",
       "2              0.544643                0.001        0.506118        0.691357   \n",
       "3              0.222222                0.001        0.468750        0.693214   \n",
       "4              0.540179                0.001        0.537264        0.685560   \n",
       "..                  ...                  ...             ...             ...   \n",
       "97             0.777778                0.001        0.718750        0.430567   \n",
       "98             0.785714                0.001        0.757543        0.470704   \n",
       "99             0.888889                0.001        1.000000        0.333750   \n",
       "100                 NaN                  NaN             NaN             NaN   \n",
       "101                 NaN                  NaN             NaN             NaN   \n",
       "\n",
       "     _step    _runtime  test_loss  epoch/loss    _timestamp  \\\n",
       "0        0   18.109223        NaN    1.002055  1.727429e+09   \n",
       "1        1   18.280962        NaN    0.688837  1.727429e+09   \n",
       "2        2   29.311693        NaN    0.692821  1.727429e+09   \n",
       "3        3   29.466898        NaN    0.691901  1.727429e+09   \n",
       "4        4   40.290938        NaN    0.692656  1.727429e+09   \n",
       "..     ...         ...        ...         ...           ...   \n",
       "97      97  539.647954        NaN    0.504339  1.727429e+09   \n",
       "98      98  550.599944        NaN    0.495521  1.727429e+09   \n",
       "99      99  550.668174        NaN    0.352064  1.727429e+09   \n",
       "100    100  551.152930   0.453955         NaN  1.727429e+09   \n",
       "101    101  552.536837        NaN         NaN  1.727429e+09   \n",
       "\n",
       "                                      confusion-matrix  epoch/epoch  test_accc  \n",
       "0                                                 None          0.0        NaN  \n",
       "1                                                 None          1.0        NaN  \n",
       "2                                                 None          2.0        NaN  \n",
       "3                                                 None          3.0        NaN  \n",
       "4                                                 None          4.0        NaN  \n",
       "..                                                 ...          ...        ...  \n",
       "97                                                None         97.0        NaN  \n",
       "98                                                None         98.0        NaN  \n",
       "99                                                None         99.0        NaN  \n",
       "100                                               None          NaN   0.825342  \n",
       "101  {'format': 'png', 'path': 'media/images/confus...          NaN        NaN  \n",
       "\n",
       "[102 rows x 12 columns]"
      ]
     },
     "execution_count": 4,
     "metadata": {},
     "output_type": "execute_result"
    }
   ],
   "source": [
    "history = run.history()\n",
    "history"
   ]
  },
  {
   "cell_type": "code",
   "execution_count": 5,
   "metadata": {},
   "outputs": [
    {
     "data": {
      "text/plain": [
       "nan"
      ]
     },
     "execution_count": 5,
     "metadata": {},
     "output_type": "execute_result"
    }
   ],
   "source": [
    "max(history[\"test_accc\"])"
   ]
  },
  {
   "cell_type": "code",
   "execution_count": 6,
   "metadata": {},
   "outputs": [],
   "source": [
    "import plotly.express as px"
   ]
  },
  {
   "cell_type": "code",
   "execution_count": 7,
   "metadata": {},
   "outputs": [
    {
     "data": {
      "application/vnd.plotly.v1+json": {
       "config": {
        "plotlyServerURL": "https://plot.ly"
       },
       "data": [
        {
         "hovertemplate": "variable=epoch/val_accuracy<br>index=%{x}<br>value=%{y}<extra></extra>",
         "legendgroup": "epoch/val_accuracy",
         "line": {
          "color": "#636efa",
          "dash": "solid"
         },
         "marker": {
          "symbol": "circle"
         },
         "mode": "lines",
         "name": "epoch/val_accuracy",
         "orientation": "v",
         "showlegend": true,
         "type": "scatter",
         "x": [
          0,
          1,
          2,
          3,
          4,
          5,
          6,
          7,
          8,
          9,
          10,
          11,
          12,
          13,
          14,
          15,
          16,
          17,
          18,
          19,
          20,
          21,
          22,
          23,
          24,
          25,
          26,
          27,
          28,
          29,
          30,
          31,
          32,
          33,
          34,
          35,
          36,
          37,
          38,
          39,
          40,
          41,
          42,
          43,
          44,
          45,
          46,
          47,
          48,
          49,
          50,
          51,
          52,
          53,
          54,
          55,
          56,
          57,
          58,
          59,
          60,
          61,
          62,
          63,
          64,
          65,
          66,
          67,
          68,
          69,
          70,
          71,
          72,
          73,
          74,
          75,
          76,
          77,
          78,
          79,
          80,
          81,
          82,
          83,
          84,
          85,
          86,
          87,
          88,
          89,
          90,
          91,
          92,
          93,
          94,
          95,
          96,
          97,
          98,
          99,
          100,
          101
         ],
         "xaxis": "x",
         "y": [
          0.5267857313156128,
          0.6666666865348816,
          0.5446428656578064,
          0.2222222238779068,
          0.5401785969734192,
          0.3333333432674408,
          0.5357142686843872,
          0.5555555820465088,
          0.5357142686843872,
          0.4444444477558136,
          0.5580357313156128,
          0.3333333432674408,
          0.5401785969734192,
          0.4444444477558136,
          0.5982142686843872,
          0.6666666865348816,
          0.4955357015132904,
          0.4444444477558136,
          0.5803571343421936,
          0.3333333432674408,
          0.6160714030265808,
          0.6666666865348816,
          0.5758928656578064,
          0.4444444477558136,
          0.6160714030265808,
          0.4444444477558136,
          0.6830357313156128,
          0.5555555820465088,
          0.5848214030265808,
          0.5555555820465088,
          0.6383928656578064,
          0.7777777910232544,
          0.6160714030265808,
          0.4444444477558136,
          0.6294642686843872,
          0.4444444477558136,
          0.6875,
          1,
          0.5044642686843872,
          0.5555555820465088,
          0.6964285969734192,
          0.5555555820465088,
          0.7008928656578064,
          1,
          0.7366071343421936,
          0.6666666865348816,
          0.7142857313156128,
          0.7777777910232544,
          0.71875,
          0.7777777910232544,
          0.7544642686843872,
          0.7777777910232544,
          0.7321428656578064,
          0.8888888955116272,
          0.7098214030265808,
          0.6666666865348816,
          0.7142857313156128,
          0.4444444477558136,
          0.7455357313156128,
          0.6666666865348816,
          0.7276785969734192,
          0.8888888955116272,
          0.7098214030265808,
          0.7777777910232544,
          0.7678571343421936,
          0.7777777910232544,
          0.7276785969734192,
          0.6666666865348816,
          0.6651785969734192,
          0.8888888955116272,
          0.78125,
          0.5555555820465088,
          0.7366071343421936,
          1,
          0.6919642686843872,
          0.7777777910232544,
          0.7321428656578064,
          0.6666666865348816,
          0.7723214030265808,
          0.6666666865348816,
          0.75,
          0.5555555820465088,
          0.7276785969734192,
          0.8888888955116272,
          0.7544642686843872,
          0.6666666865348816,
          0.7276785969734192,
          0.6666666865348816,
          0.7767857313156128,
          0.6666666865348816,
          0.7767857313156128,
          0.8888888955116272,
          0.7723214030265808,
          0.6666666865348816,
          0.7589285969734192,
          0.8888888955116272,
          0.75,
          0.7777777910232544,
          0.7857142686843872,
          0.8888888955116272,
          null,
          null
         ],
         "yaxis": "y"
        }
       ],
       "layout": {
        "legend": {
         "title": {
          "text": "variable"
         },
         "tracegroupgap": 0
        },
        "margin": {
         "t": 60
        },
        "template": {
         "data": {
          "bar": [
           {
            "error_x": {
             "color": "#2a3f5f"
            },
            "error_y": {
             "color": "#2a3f5f"
            },
            "marker": {
             "line": {
              "color": "#E5ECF6",
              "width": 0.5
             },
             "pattern": {
              "fillmode": "overlay",
              "size": 10,
              "solidity": 0.2
             }
            },
            "type": "bar"
           }
          ],
          "barpolar": [
           {
            "marker": {
             "line": {
              "color": "#E5ECF6",
              "width": 0.5
             },
             "pattern": {
              "fillmode": "overlay",
              "size": 10,
              "solidity": 0.2
             }
            },
            "type": "barpolar"
           }
          ],
          "carpet": [
           {
            "aaxis": {
             "endlinecolor": "#2a3f5f",
             "gridcolor": "white",
             "linecolor": "white",
             "minorgridcolor": "white",
             "startlinecolor": "#2a3f5f"
            },
            "baxis": {
             "endlinecolor": "#2a3f5f",
             "gridcolor": "white",
             "linecolor": "white",
             "minorgridcolor": "white",
             "startlinecolor": "#2a3f5f"
            },
            "type": "carpet"
           }
          ],
          "choropleth": [
           {
            "colorbar": {
             "outlinewidth": 0,
             "ticks": ""
            },
            "type": "choropleth"
           }
          ],
          "contour": [
           {
            "colorbar": {
             "outlinewidth": 0,
             "ticks": ""
            },
            "colorscale": [
             [
              0,
              "#0d0887"
             ],
             [
              0.1111111111111111,
              "#46039f"
             ],
             [
              0.2222222222222222,
              "#7201a8"
             ],
             [
              0.3333333333333333,
              "#9c179e"
             ],
             [
              0.4444444444444444,
              "#bd3786"
             ],
             [
              0.5555555555555556,
              "#d8576b"
             ],
             [
              0.6666666666666666,
              "#ed7953"
             ],
             [
              0.7777777777777778,
              "#fb9f3a"
             ],
             [
              0.8888888888888888,
              "#fdca26"
             ],
             [
              1,
              "#f0f921"
             ]
            ],
            "type": "contour"
           }
          ],
          "contourcarpet": [
           {
            "colorbar": {
             "outlinewidth": 0,
             "ticks": ""
            },
            "type": "contourcarpet"
           }
          ],
          "heatmap": [
           {
            "colorbar": {
             "outlinewidth": 0,
             "ticks": ""
            },
            "colorscale": [
             [
              0,
              "#0d0887"
             ],
             [
              0.1111111111111111,
              "#46039f"
             ],
             [
              0.2222222222222222,
              "#7201a8"
             ],
             [
              0.3333333333333333,
              "#9c179e"
             ],
             [
              0.4444444444444444,
              "#bd3786"
             ],
             [
              0.5555555555555556,
              "#d8576b"
             ],
             [
              0.6666666666666666,
              "#ed7953"
             ],
             [
              0.7777777777777778,
              "#fb9f3a"
             ],
             [
              0.8888888888888888,
              "#fdca26"
             ],
             [
              1,
              "#f0f921"
             ]
            ],
            "type": "heatmap"
           }
          ],
          "heatmapgl": [
           {
            "colorbar": {
             "outlinewidth": 0,
             "ticks": ""
            },
            "colorscale": [
             [
              0,
              "#0d0887"
             ],
             [
              0.1111111111111111,
              "#46039f"
             ],
             [
              0.2222222222222222,
              "#7201a8"
             ],
             [
              0.3333333333333333,
              "#9c179e"
             ],
             [
              0.4444444444444444,
              "#bd3786"
             ],
             [
              0.5555555555555556,
              "#d8576b"
             ],
             [
              0.6666666666666666,
              "#ed7953"
             ],
             [
              0.7777777777777778,
              "#fb9f3a"
             ],
             [
              0.8888888888888888,
              "#fdca26"
             ],
             [
              1,
              "#f0f921"
             ]
            ],
            "type": "heatmapgl"
           }
          ],
          "histogram": [
           {
            "marker": {
             "pattern": {
              "fillmode": "overlay",
              "size": 10,
              "solidity": 0.2
             }
            },
            "type": "histogram"
           }
          ],
          "histogram2d": [
           {
            "colorbar": {
             "outlinewidth": 0,
             "ticks": ""
            },
            "colorscale": [
             [
              0,
              "#0d0887"
             ],
             [
              0.1111111111111111,
              "#46039f"
             ],
             [
              0.2222222222222222,
              "#7201a8"
             ],
             [
              0.3333333333333333,
              "#9c179e"
             ],
             [
              0.4444444444444444,
              "#bd3786"
             ],
             [
              0.5555555555555556,
              "#d8576b"
             ],
             [
              0.6666666666666666,
              "#ed7953"
             ],
             [
              0.7777777777777778,
              "#fb9f3a"
             ],
             [
              0.8888888888888888,
              "#fdca26"
             ],
             [
              1,
              "#f0f921"
             ]
            ],
            "type": "histogram2d"
           }
          ],
          "histogram2dcontour": [
           {
            "colorbar": {
             "outlinewidth": 0,
             "ticks": ""
            },
            "colorscale": [
             [
              0,
              "#0d0887"
             ],
             [
              0.1111111111111111,
              "#46039f"
             ],
             [
              0.2222222222222222,
              "#7201a8"
             ],
             [
              0.3333333333333333,
              "#9c179e"
             ],
             [
              0.4444444444444444,
              "#bd3786"
             ],
             [
              0.5555555555555556,
              "#d8576b"
             ],
             [
              0.6666666666666666,
              "#ed7953"
             ],
             [
              0.7777777777777778,
              "#fb9f3a"
             ],
             [
              0.8888888888888888,
              "#fdca26"
             ],
             [
              1,
              "#f0f921"
             ]
            ],
            "type": "histogram2dcontour"
           }
          ],
          "mesh3d": [
           {
            "colorbar": {
             "outlinewidth": 0,
             "ticks": ""
            },
            "type": "mesh3d"
           }
          ],
          "parcoords": [
           {
            "line": {
             "colorbar": {
              "outlinewidth": 0,
              "ticks": ""
             }
            },
            "type": "parcoords"
           }
          ],
          "pie": [
           {
            "automargin": true,
            "type": "pie"
           }
          ],
          "scatter": [
           {
            "fillpattern": {
             "fillmode": "overlay",
             "size": 10,
             "solidity": 0.2
            },
            "type": "scatter"
           }
          ],
          "scatter3d": [
           {
            "line": {
             "colorbar": {
              "outlinewidth": 0,
              "ticks": ""
             }
            },
            "marker": {
             "colorbar": {
              "outlinewidth": 0,
              "ticks": ""
             }
            },
            "type": "scatter3d"
           }
          ],
          "scattercarpet": [
           {
            "marker": {
             "colorbar": {
              "outlinewidth": 0,
              "ticks": ""
             }
            },
            "type": "scattercarpet"
           }
          ],
          "scattergeo": [
           {
            "marker": {
             "colorbar": {
              "outlinewidth": 0,
              "ticks": ""
             }
            },
            "type": "scattergeo"
           }
          ],
          "scattergl": [
           {
            "marker": {
             "colorbar": {
              "outlinewidth": 0,
              "ticks": ""
             }
            },
            "type": "scattergl"
           }
          ],
          "scattermapbox": [
           {
            "marker": {
             "colorbar": {
              "outlinewidth": 0,
              "ticks": ""
             }
            },
            "type": "scattermapbox"
           }
          ],
          "scatterpolar": [
           {
            "marker": {
             "colorbar": {
              "outlinewidth": 0,
              "ticks": ""
             }
            },
            "type": "scatterpolar"
           }
          ],
          "scatterpolargl": [
           {
            "marker": {
             "colorbar": {
              "outlinewidth": 0,
              "ticks": ""
             }
            },
            "type": "scatterpolargl"
           }
          ],
          "scatterternary": [
           {
            "marker": {
             "colorbar": {
              "outlinewidth": 0,
              "ticks": ""
             }
            },
            "type": "scatterternary"
           }
          ],
          "surface": [
           {
            "colorbar": {
             "outlinewidth": 0,
             "ticks": ""
            },
            "colorscale": [
             [
              0,
              "#0d0887"
             ],
             [
              0.1111111111111111,
              "#46039f"
             ],
             [
              0.2222222222222222,
              "#7201a8"
             ],
             [
              0.3333333333333333,
              "#9c179e"
             ],
             [
              0.4444444444444444,
              "#bd3786"
             ],
             [
              0.5555555555555556,
              "#d8576b"
             ],
             [
              0.6666666666666666,
              "#ed7953"
             ],
             [
              0.7777777777777778,
              "#fb9f3a"
             ],
             [
              0.8888888888888888,
              "#fdca26"
             ],
             [
              1,
              "#f0f921"
             ]
            ],
            "type": "surface"
           }
          ],
          "table": [
           {
            "cells": {
             "fill": {
              "color": "#EBF0F8"
             },
             "line": {
              "color": "white"
             }
            },
            "header": {
             "fill": {
              "color": "#C8D4E3"
             },
             "line": {
              "color": "white"
             }
            },
            "type": "table"
           }
          ]
         },
         "layout": {
          "annotationdefaults": {
           "arrowcolor": "#2a3f5f",
           "arrowhead": 0,
           "arrowwidth": 1
          },
          "autotypenumbers": "strict",
          "coloraxis": {
           "colorbar": {
            "outlinewidth": 0,
            "ticks": ""
           }
          },
          "colorscale": {
           "diverging": [
            [
             0,
             "#8e0152"
            ],
            [
             0.1,
             "#c51b7d"
            ],
            [
             0.2,
             "#de77ae"
            ],
            [
             0.3,
             "#f1b6da"
            ],
            [
             0.4,
             "#fde0ef"
            ],
            [
             0.5,
             "#f7f7f7"
            ],
            [
             0.6,
             "#e6f5d0"
            ],
            [
             0.7,
             "#b8e186"
            ],
            [
             0.8,
             "#7fbc41"
            ],
            [
             0.9,
             "#4d9221"
            ],
            [
             1,
             "#276419"
            ]
           ],
           "sequential": [
            [
             0,
             "#0d0887"
            ],
            [
             0.1111111111111111,
             "#46039f"
            ],
            [
             0.2222222222222222,
             "#7201a8"
            ],
            [
             0.3333333333333333,
             "#9c179e"
            ],
            [
             0.4444444444444444,
             "#bd3786"
            ],
            [
             0.5555555555555556,
             "#d8576b"
            ],
            [
             0.6666666666666666,
             "#ed7953"
            ],
            [
             0.7777777777777778,
             "#fb9f3a"
            ],
            [
             0.8888888888888888,
             "#fdca26"
            ],
            [
             1,
             "#f0f921"
            ]
           ],
           "sequentialminus": [
            [
             0,
             "#0d0887"
            ],
            [
             0.1111111111111111,
             "#46039f"
            ],
            [
             0.2222222222222222,
             "#7201a8"
            ],
            [
             0.3333333333333333,
             "#9c179e"
            ],
            [
             0.4444444444444444,
             "#bd3786"
            ],
            [
             0.5555555555555556,
             "#d8576b"
            ],
            [
             0.6666666666666666,
             "#ed7953"
            ],
            [
             0.7777777777777778,
             "#fb9f3a"
            ],
            [
             0.8888888888888888,
             "#fdca26"
            ],
            [
             1,
             "#f0f921"
            ]
           ]
          },
          "colorway": [
           "#636efa",
           "#EF553B",
           "#00cc96",
           "#ab63fa",
           "#FFA15A",
           "#19d3f3",
           "#FF6692",
           "#B6E880",
           "#FF97FF",
           "#FECB52"
          ],
          "font": {
           "color": "#2a3f5f"
          },
          "geo": {
           "bgcolor": "white",
           "lakecolor": "white",
           "landcolor": "#E5ECF6",
           "showlakes": true,
           "showland": true,
           "subunitcolor": "white"
          },
          "hoverlabel": {
           "align": "left"
          },
          "hovermode": "closest",
          "mapbox": {
           "style": "light"
          },
          "paper_bgcolor": "white",
          "plot_bgcolor": "#E5ECF6",
          "polar": {
           "angularaxis": {
            "gridcolor": "white",
            "linecolor": "white",
            "ticks": ""
           },
           "bgcolor": "#E5ECF6",
           "radialaxis": {
            "gridcolor": "white",
            "linecolor": "white",
            "ticks": ""
           }
          },
          "scene": {
           "xaxis": {
            "backgroundcolor": "#E5ECF6",
            "gridcolor": "white",
            "gridwidth": 2,
            "linecolor": "white",
            "showbackground": true,
            "ticks": "",
            "zerolinecolor": "white"
           },
           "yaxis": {
            "backgroundcolor": "#E5ECF6",
            "gridcolor": "white",
            "gridwidth": 2,
            "linecolor": "white",
            "showbackground": true,
            "ticks": "",
            "zerolinecolor": "white"
           },
           "zaxis": {
            "backgroundcolor": "#E5ECF6",
            "gridcolor": "white",
            "gridwidth": 2,
            "linecolor": "white",
            "showbackground": true,
            "ticks": "",
            "zerolinecolor": "white"
           }
          },
          "shapedefaults": {
           "line": {
            "color": "#2a3f5f"
           }
          },
          "ternary": {
           "aaxis": {
            "gridcolor": "white",
            "linecolor": "white",
            "ticks": ""
           },
           "baxis": {
            "gridcolor": "white",
            "linecolor": "white",
            "ticks": ""
           },
           "bgcolor": "#E5ECF6",
           "caxis": {
            "gridcolor": "white",
            "linecolor": "white",
            "ticks": ""
           }
          },
          "title": {
           "x": 0.05
          },
          "xaxis": {
           "automargin": true,
           "gridcolor": "white",
           "linecolor": "white",
           "ticks": "",
           "title": {
            "standoff": 15
           },
           "zerolinecolor": "white",
           "zerolinewidth": 2
          },
          "yaxis": {
           "automargin": true,
           "gridcolor": "white",
           "linecolor": "white",
           "ticks": "",
           "title": {
            "standoff": 15
           },
           "zerolinecolor": "white",
           "zerolinewidth": 2
          }
         }
        },
        "xaxis": {
         "anchor": "y",
         "domain": [
          0,
          1
         ],
         "title": {
          "text": "index"
         }
        },
        "yaxis": {
         "anchor": "x",
         "domain": [
          0,
          1
         ],
         "title": {
          "text": "value"
         }
        }
       }
      }
     },
     "metadata": {},
     "output_type": "display_data"
    }
   ],
   "source": [
    "px.line(history[\"epoch/val_accuracy\"])"
   ]
  },
  {
   "cell_type": "markdown",
   "metadata": {},
   "source": [
    "# Sweep"
   ]
  },
  {
   "cell_type": "code",
   "execution_count": 8,
   "metadata": {},
   "outputs": [],
   "source": [
    "api = wandb.Api()"
   ]
  },
  {
   "cell_type": "code",
   "execution_count": 9,
   "metadata": {},
   "outputs": [],
   "source": [
    "cnn_sweep = api.sweep(\"silvan-wiedmer-fhgr/VisionTransformer/j89j3ya1\")"
   ]
  },
  {
   "cell_type": "code",
   "execution_count": 10,
   "metadata": {},
   "outputs": [
    {
     "data": {
      "text/plain": [
       "<Runs silvan-wiedmer-fhgr/VisionTransformer>"
      ]
     },
     "execution_count": 10,
     "metadata": {},
     "output_type": "execute_result"
    }
   ],
   "source": [
    "cnn_sweep.runs"
   ]
  },
  {
   "cell_type": "code",
   "execution_count": 26,
   "metadata": {},
   "outputs": [],
   "source": [
    "METRIC = \"epoch/val_accuracy\""
   ]
  },
  {
   "cell_type": "code",
   "execution_count": 27,
   "metadata": {},
   "outputs": [
    {
     "name": "stdout",
     "output_type": "stream",
     "text": [
      "Best run lr_0.0005758520600362071_bs_16_do_0.36 with 0.53125 validation accuracy\n"
     ]
    }
   ],
   "source": [
    "runs = sorted(cnn_sweep.runs, key=lambda run: run.summary.get(METRIC, 0), reverse=True)\n",
    "val_acc = runs[0].summary.get(METRIC, 0)\n",
    "print(f\"Best run {runs[0].name} with {val_acc} validation accuracy\")\n"
   ]
  },
  {
   "cell_type": "code",
   "execution_count": 28,
   "metadata": {},
   "outputs": [
    {
     "data": {
      "text/plain": [
       "{'dropout': 0.3628469208876618,\n",
       " 'batch_size': 16,\n",
       " 'learning_rate': 0.0005758520600362071}"
      ]
     },
     "execution_count": 28,
     "metadata": {},
     "output_type": "execute_result"
    }
   ],
   "source": [
    "runs[0].config"
   ]
  },
  {
   "cell_type": "code",
   "execution_count": 31,
   "metadata": {},
   "outputs": [
    {
     "data": {
      "text/html": [
       "<div>\n",
       "<style scoped>\n",
       "    .dataframe tbody tr th:only-of-type {\n",
       "        vertical-align: middle;\n",
       "    }\n",
       "\n",
       "    .dataframe tbody tr th {\n",
       "        vertical-align: top;\n",
       "    }\n",
       "\n",
       "    .dataframe thead th {\n",
       "        text-align: right;\n",
       "    }\n",
       "</style>\n",
       "<table border=\"1\" class=\"dataframe\">\n",
       "  <thead>\n",
       "    <tr style=\"text-align: right;\">\n",
       "      <th></th>\n",
       "      <th>system.network.sent</th>\n",
       "      <th>system.network.recv</th>\n",
       "      <th>system.disk./.usageGB</th>\n",
       "      <th>_wandb</th>\n",
       "      <th>system.disk.out</th>\n",
       "      <th>_runtime</th>\n",
       "      <th>system.disk./.usagePercent</th>\n",
       "      <th>system.disk.in</th>\n",
       "      <th>_timestamp</th>\n",
       "      <th>system.gpu.0.powerPercent</th>\n",
       "      <th>...</th>\n",
       "      <th>system.cpu</th>\n",
       "      <th>system.proc.cpu.threads</th>\n",
       "      <th>system.cpu.0.cpu_percent</th>\n",
       "      <th>system.cpu.19.cpu_percent</th>\n",
       "      <th>system.cpu.13.cpu_percent</th>\n",
       "      <th>system.cpu.10.cpu_percent</th>\n",
       "      <th>system.cpu.8.cpu_percent</th>\n",
       "      <th>system.cpu.18.cpu_percent</th>\n",
       "      <th>system.cpu.17.cpu_percent</th>\n",
       "      <th>system.cpu.14.cpu_percent</th>\n",
       "    </tr>\n",
       "  </thead>\n",
       "  <tbody>\n",
       "    <tr>\n",
       "      <th>0</th>\n",
       "      <td>80128.0</td>\n",
       "      <td>590910.0</td>\n",
       "      <td>455.232357</td>\n",
       "      <td>True</td>\n",
       "      <td>0.0</td>\n",
       "      <td>10.293340</td>\n",
       "      <td>48.924321</td>\n",
       "      <td>0.0</td>\n",
       "      <td>1.728653e+09</td>\n",
       "      <td>NaN</td>\n",
       "      <td>...</td>\n",
       "      <td>NaN</td>\n",
       "      <td>NaN</td>\n",
       "      <td>NaN</td>\n",
       "      <td>NaN</td>\n",
       "      <td>NaN</td>\n",
       "      <td>NaN</td>\n",
       "      <td>NaN</td>\n",
       "      <td>NaN</td>\n",
       "      <td>NaN</td>\n",
       "      <td>NaN</td>\n",
       "    </tr>\n",
       "    <tr>\n",
       "      <th>1</th>\n",
       "      <td>NaN</td>\n",
       "      <td>NaN</td>\n",
       "      <td>NaN</td>\n",
       "      <td>True</td>\n",
       "      <td>NaN</td>\n",
       "      <td>10.306290</td>\n",
       "      <td>NaN</td>\n",
       "      <td>NaN</td>\n",
       "      <td>1.728653e+09</td>\n",
       "      <td>54.449091</td>\n",
       "      <td>...</td>\n",
       "      <td>NaN</td>\n",
       "      <td>NaN</td>\n",
       "      <td>NaN</td>\n",
       "      <td>NaN</td>\n",
       "      <td>NaN</td>\n",
       "      <td>NaN</td>\n",
       "      <td>NaN</td>\n",
       "      <td>NaN</td>\n",
       "      <td>NaN</td>\n",
       "      <td>NaN</td>\n",
       "    </tr>\n",
       "    <tr>\n",
       "      <th>2</th>\n",
       "      <td>NaN</td>\n",
       "      <td>NaN</td>\n",
       "      <td>NaN</td>\n",
       "      <td>True</td>\n",
       "      <td>NaN</td>\n",
       "      <td>10.378034</td>\n",
       "      <td>NaN</td>\n",
       "      <td>NaN</td>\n",
       "      <td>1.728653e+09</td>\n",
       "      <td>NaN</td>\n",
       "      <td>...</td>\n",
       "      <td>21.81267</td>\n",
       "      <td>120.0</td>\n",
       "      <td>1.426534</td>\n",
       "      <td>8.238636</td>\n",
       "      <td>8.392603</td>\n",
       "      <td>11.697575</td>\n",
       "      <td>9.82906</td>\n",
       "      <td>8.238636</td>\n",
       "      <td>8.238636</td>\n",
       "      <td>8.522727</td>\n",
       "    </tr>\n",
       "    <tr>\n",
       "      <th>3</th>\n",
       "      <td>NaN</td>\n",
       "      <td>NaN</td>\n",
       "      <td>455.231991</td>\n",
       "      <td>True</td>\n",
       "      <td>0.0</td>\n",
       "      <td>20.259459</td>\n",
       "      <td>48.924282</td>\n",
       "      <td>0.0</td>\n",
       "      <td>1.728653e+09</td>\n",
       "      <td>NaN</td>\n",
       "      <td>...</td>\n",
       "      <td>NaN</td>\n",
       "      <td>NaN</td>\n",
       "      <td>NaN</td>\n",
       "      <td>NaN</td>\n",
       "      <td>NaN</td>\n",
       "      <td>NaN</td>\n",
       "      <td>NaN</td>\n",
       "      <td>NaN</td>\n",
       "      <td>NaN</td>\n",
       "      <td>NaN</td>\n",
       "    </tr>\n",
       "    <tr>\n",
       "      <th>4</th>\n",
       "      <td>NaN</td>\n",
       "      <td>NaN</td>\n",
       "      <td>NaN</td>\n",
       "      <td>True</td>\n",
       "      <td>NaN</td>\n",
       "      <td>20.260639</td>\n",
       "      <td>NaN</td>\n",
       "      <td>NaN</td>\n",
       "      <td>1.728653e+09</td>\n",
       "      <td>54.449091</td>\n",
       "      <td>...</td>\n",
       "      <td>NaN</td>\n",
       "      <td>NaN</td>\n",
       "      <td>NaN</td>\n",
       "      <td>NaN</td>\n",
       "      <td>NaN</td>\n",
       "      <td>NaN</td>\n",
       "      <td>NaN</td>\n",
       "      <td>NaN</td>\n",
       "      <td>NaN</td>\n",
       "      <td>NaN</td>\n",
       "    </tr>\n",
       "  </tbody>\n",
       "</table>\n",
       "<p>5 rows × 45 columns</p>\n",
       "</div>"
      ],
      "text/plain": [
       "   system.network.sent  system.network.recv  system.disk./.usageGB  _wandb  \\\n",
       "0              80128.0             590910.0             455.232357    True   \n",
       "1                  NaN                  NaN                    NaN    True   \n",
       "2                  NaN                  NaN                    NaN    True   \n",
       "3                  NaN                  NaN             455.231991    True   \n",
       "4                  NaN                  NaN                    NaN    True   \n",
       "\n",
       "   system.disk.out   _runtime  system.disk./.usagePercent  system.disk.in  \\\n",
       "0              0.0  10.293340                   48.924321             0.0   \n",
       "1              NaN  10.306290                         NaN             NaN   \n",
       "2              NaN  10.378034                         NaN             NaN   \n",
       "3              0.0  20.259459                   48.924282             0.0   \n",
       "4              NaN  20.260639                         NaN             NaN   \n",
       "\n",
       "     _timestamp  system.gpu.0.powerPercent  ...  system.cpu  \\\n",
       "0  1.728653e+09                        NaN  ...         NaN   \n",
       "1  1.728653e+09                  54.449091  ...         NaN   \n",
       "2  1.728653e+09                        NaN  ...    21.81267   \n",
       "3  1.728653e+09                        NaN  ...         NaN   \n",
       "4  1.728653e+09                  54.449091  ...         NaN   \n",
       "\n",
       "   system.proc.cpu.threads  system.cpu.0.cpu_percent  \\\n",
       "0                      NaN                       NaN   \n",
       "1                      NaN                       NaN   \n",
       "2                    120.0                  1.426534   \n",
       "3                      NaN                       NaN   \n",
       "4                      NaN                       NaN   \n",
       "\n",
       "   system.cpu.19.cpu_percent  system.cpu.13.cpu_percent  \\\n",
       "0                        NaN                        NaN   \n",
       "1                        NaN                        NaN   \n",
       "2                   8.238636                   8.392603   \n",
       "3                        NaN                        NaN   \n",
       "4                        NaN                        NaN   \n",
       "\n",
       "   system.cpu.10.cpu_percent  system.cpu.8.cpu_percent  \\\n",
       "0                        NaN                       NaN   \n",
       "1                        NaN                       NaN   \n",
       "2                  11.697575                   9.82906   \n",
       "3                        NaN                       NaN   \n",
       "4                        NaN                       NaN   \n",
       "\n",
       "   system.cpu.18.cpu_percent  system.cpu.17.cpu_percent  \\\n",
       "0                        NaN                        NaN   \n",
       "1                        NaN                        NaN   \n",
       "2                   8.238636                   8.238636   \n",
       "3                        NaN                        NaN   \n",
       "4                        NaN                        NaN   \n",
       "\n",
       "   system.cpu.14.cpu_percent  \n",
       "0                        NaN  \n",
       "1                        NaN  \n",
       "2                   8.522727  \n",
       "3                        NaN  \n",
       "4                        NaN  \n",
       "\n",
       "[5 rows x 45 columns]"
      ]
     },
     "execution_count": 31,
     "metadata": {},
     "output_type": "execute_result"
    }
   ],
   "source": [
    "df_system_metrics = runs[0].history(stream=\"system\")\n",
    "df_system_metrics.head()"
   ]
  },
  {
   "cell_type": "code",
   "execution_count": 32,
   "metadata": {},
   "outputs": [
    {
     "data": {
      "text/plain": [
       "Index(['system.network.sent', 'system.network.recv', 'system.disk./.usageGB',\n",
       "       '_wandb', 'system.disk.out', '_runtime', 'system.disk./.usagePercent',\n",
       "       'system.disk.in', '_timestamp', 'system.gpu.0.powerPercent',\n",
       "       'system.gpu.0.smClock', 'system.gpu.0.powerWatts', 'system.gpu.0.temp',\n",
       "       'system.gpu.0.memory', 'system.memory_percent', 'system.gpu.0.gpu',\n",
       "       'system.proc.memory.rssMB', 'system.gpu.0.memoryAllocatedBytes',\n",
       "       'system.proc.memory.availableMB', 'system.proc.memory.percent',\n",
       "       'system.gpu.0.memoryAllocated', 'system.gpu.0.memoryClock',\n",
       "       'system.gpu.0.enforcedPowerLimitWatts', 'system.cpu.9.cpu_percent',\n",
       "       'system.cpu.1.cpu_percent', 'system.cpu.7.cpu_percent',\n",
       "       'system.cpu.16.cpu_percent', 'system.cpu.6.cpu_percent',\n",
       "       'system.cpu.11.cpu_percent', 'system.cpu.3.cpu_percent',\n",
       "       'system.cpu.15.cpu_percent', 'system.cpu.4.cpu_percent',\n",
       "       'system.cpu.12.cpu_percent', 'system.cpu.2.cpu_percent',\n",
       "       'system.cpu.5.cpu_percent', 'system.cpu', 'system.proc.cpu.threads',\n",
       "       'system.cpu.0.cpu_percent', 'system.cpu.19.cpu_percent',\n",
       "       'system.cpu.13.cpu_percent', 'system.cpu.10.cpu_percent',\n",
       "       'system.cpu.8.cpu_percent', 'system.cpu.18.cpu_percent',\n",
       "       'system.cpu.17.cpu_percent', 'system.cpu.14.cpu_percent'],\n",
       "      dtype='object')"
      ]
     },
     "execution_count": 32,
     "metadata": {},
     "output_type": "execute_result"
    }
   ],
   "source": [
    "df_system_metrics.columns"
   ]
  },
  {
   "cell_type": "code",
   "execution_count": 33,
   "metadata": {},
   "outputs": [
    {
     "data": {
      "text/plain": [
       "0           NaN\n",
       "1           NaN\n",
       "2     21.812670\n",
       "3           NaN\n",
       "4           NaN\n",
       "        ...    \n",
       "68          NaN\n",
       "69    21.596272\n",
       "70          NaN\n",
       "71    21.550835\n",
       "72          NaN\n",
       "Name: system.cpu, Length: 73, dtype: float64"
      ]
     },
     "execution_count": 33,
     "metadata": {},
     "output_type": "execute_result"
    }
   ],
   "source": [
    "df_system_metrics[\"system.cpu\"]"
   ]
  }
 ],
 "metadata": {
  "kernelspec": {
   "display_name": ".venv",
   "language": "python",
   "name": "python3"
  },
  "language_info": {
   "codemirror_mode": {
    "name": "ipython",
    "version": 3
   },
   "file_extension": ".py",
   "mimetype": "text/x-python",
   "name": "python",
   "nbconvert_exporter": "python",
   "pygments_lexer": "ipython3",
   "version": "3.11.10"
  }
 },
 "nbformat": 4,
 "nbformat_minor": 2
}
