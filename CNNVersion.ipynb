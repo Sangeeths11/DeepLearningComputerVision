{
 "cells": [
  {
   "cell_type": "code",
   "execution_count": 1,
   "metadata": {},
   "outputs": [
    {
     "name": "stdout",
     "output_type": "stream",
     "text": [
      "WARNING:tensorflow:From c:\\Users\\csang\\miniconda3\\envs\\fhgr\\lib\\site-packages\\keras\\src\\losses.py:2976: The name tf.losses.sparse_softmax_cross_entropy is deprecated. Please use tf.compat.v1.losses.sparse_softmax_cross_entropy instead.\n",
      "\n"
     ]
    }
   ],
   "source": [
    "import os\n",
    "import numpy as np\n",
    "from tensorflow.keras.preprocessing.image import ImageDataGenerator\n",
    "from tensorflow.keras.models import Sequential\n",
    "from tensorflow.keras.layers import Conv2D, MaxPooling2D, Flatten, Dense, Dropout\n",
    "from tensorflow.keras.optimizers import Adam\n",
    "from sklearn.model_selection import train_test_split\n",
    "from tensorflow.keras.preprocessing.image import load_img, img_to_array\n",
    "from sklearn.metrics import classification_report, confusion_matrix\n",
    "from tensorflow.keras.layers import BatchNormalization\n",
    "import seaborn as sns\n",
    "import matplotlib.pyplot as plt\n",
    "import tensorflow as tf\n",
    "import pandas as pd\n",
    "\n",
    "%run helpFunction.ipynb"
   ]
  },
  {
   "cell_type": "code",
   "execution_count": 2,
   "metadata": {},
   "outputs": [],
   "source": [
    "gpus = tf.config.list_physical_devices('GPU')\n",
    "if gpus:\n",
    "  try:\n",
    "    # Currently, memory growth needs to be the same across GPUs\n",
    "    for gpu in gpus:\n",
    "      tf.config.experimental.set_memory_growth(gpu, True)\n",
    "    logical_gpus = tf.config.list_logical_devices('GPU')\n",
    "    print(len(gpus), \"Physical GPUs,\", len(logical_gpus), \"Logical GPUs\")\n",
    "  except RuntimeError as e:\n",
    "    # Memory growth must be set before GPUs have been initialized\n",
    "    print(e)"
   ]
  },
  {
   "cell_type": "code",
   "execution_count": 3,
   "metadata": {},
   "outputs": [],
   "source": [
    "image_size = (250, 250)\n",
    "batch_size = 32"
   ]
  },
  {
   "cell_type": "code",
   "execution_count": 4,
   "metadata": {},
   "outputs": [],
   "source": [
    "path_with_sign = 'data/y'\n",
    "path_without_sign = 'data/n'"
   ]
  },
  {
   "cell_type": "code",
   "execution_count": 5,
   "metadata": {},
   "outputs": [],
   "source": [
    "def load_images_from_folder(folder, label, target_size):\n",
    "    images = []\n",
    "    labels = []\n",
    "    for filename in os.listdir(folder):\n",
    "        img_path = os.path.join(folder, filename)\n",
    "        try:\n",
    "            img = load_img(img_path, target_size=target_size)\n",
    "            img_array = img_to_array(img)\n",
    "            images.append(img_array)\n",
    "            labels.append(label)\n",
    "        except Exception as e:\n",
    "            print(f\"Fehler beim Laden des Bildes {img_path}: {e}\")\n",
    "    return np.array(images), np.array(labels)"
   ]
  },
  {
   "cell_type": "code",
   "execution_count": 6,
   "metadata": {},
   "outputs": [],
   "source": [
    "images_with_sign, labels_with_sign = load_images_from_folder(path_with_sign, 0, image_size)\n",
    "images_without_sign, labels_without_sign = load_images_from_folder(path_without_sign, 1, image_size)"
   ]
  },
  {
   "cell_type": "code",
   "execution_count": 7,
   "metadata": {},
   "outputs": [],
   "source": [
    "namelabels = {0: 'Wartelinie', 1: 'keine Wartelinie'}"
   ]
  },
  {
   "cell_type": "code",
   "execution_count": 8,
   "metadata": {},
   "outputs": [],
   "source": [
    "all_images = np.concatenate((images_with_sign, images_without_sign), axis=0)\n",
    "all_labels = np.concatenate((labels_with_sign, labels_without_sign), axis=0)"
   ]
  },
  {
   "cell_type": "code",
   "execution_count": 9,
   "metadata": {},
   "outputs": [
    {
     "data": {
      "text/plain": [
       "array([[[[0.23921569, 0.32156864, 0.19215687],\n",
       "         [0.11372549, 0.1764706 , 0.07058824],\n",
       "         [0.03921569, 0.08627451, 0.        ],\n",
       "         ...,\n",
       "         [0.29411766, 0.35686275, 0.21568628],\n",
       "         [0.15294118, 0.21568628, 0.10196079],\n",
       "         [0.12156863, 0.21568628, 0.08235294]],\n",
       "\n",
       "        [[0.05490196, 0.11764706, 0.01176471],\n",
       "         [0.05490196, 0.10196079, 0.01568628],\n",
       "         [0.07450981, 0.10980392, 0.03529412],\n",
       "         ...,\n",
       "         [0.36078432, 0.41568628, 0.28627452],\n",
       "         [0.2627451 , 0.31764707, 0.21568628],\n",
       "         [0.21176471, 0.29411766, 0.17254902]],\n",
       "\n",
       "        [[0.07450981, 0.07843138, 0.04705882],\n",
       "         [0.14117648, 0.14509805, 0.11372549],\n",
       "         [0.11764706, 0.12941177, 0.08627451],\n",
       "         ...,\n",
       "         [0.3529412 , 0.41568628, 0.27450982],\n",
       "         [0.38039216, 0.42745098, 0.33333334],\n",
       "         [0.27450982, 0.32941177, 0.23137255]],\n",
       "\n",
       "        ...,\n",
       "\n",
       "        [[0.16470589, 0.1764706 , 0.14901961],\n",
       "         [0.18039216, 0.19215687, 0.16470589],\n",
       "         [0.31764707, 0.34117648, 0.3019608 ],\n",
       "         ...,\n",
       "         [0.20392157, 0.1882353 , 0.19215687],\n",
       "         [0.11372549, 0.10196079, 0.12941177],\n",
       "         [0.10588235, 0.10980392, 0.1254902 ]],\n",
       "\n",
       "        [[0.10980392, 0.15294118, 0.09803922],\n",
       "         [0.12941177, 0.16862746, 0.1254902 ],\n",
       "         [0.34901962, 0.4117647 , 0.36078432],\n",
       "         ...,\n",
       "         [0.26666668, 0.2509804 , 0.25490198],\n",
       "         [0.16862746, 0.16078432, 0.18039216],\n",
       "         [0.08627451, 0.08627451, 0.09411765]],\n",
       "\n",
       "        [[0.16470589, 0.21960784, 0.15294118],\n",
       "         [0.14901961, 0.21568628, 0.14117648],\n",
       "         [0.21176471, 0.29411766, 0.22745098],\n",
       "         ...,\n",
       "         [0.3137255 , 0.29803923, 0.3019608 ],\n",
       "         [0.18039216, 0.17254902, 0.18431373],\n",
       "         [0.12156863, 0.12156863, 0.12941177]]],\n",
       "\n",
       "\n",
       "       [[[0.5058824 , 0.5137255 , 0.50980395],\n",
       "         [0.5137255 , 0.52156866, 0.50980395],\n",
       "         [0.5176471 , 0.5137255 , 0.49803922],\n",
       "         ...,\n",
       "         [0.2       , 0.2509804 , 0.13333334],\n",
       "         [0.15294118, 0.1882353 , 0.10588235],\n",
       "         [0.16862746, 0.20392157, 0.13725491]],\n",
       "\n",
       "        [[0.48235294, 0.49019608, 0.4862745 ],\n",
       "         [0.49803922, 0.5058824 , 0.49411765],\n",
       "         [0.5137255 , 0.50980395, 0.49411765],\n",
       "         ...,\n",
       "         [0.22352941, 0.28627452, 0.14117648],\n",
       "         [0.28235295, 0.31764707, 0.21176471],\n",
       "         [0.22745098, 0.24705882, 0.16862746]],\n",
       "\n",
       "        [[0.47843137, 0.4862745 , 0.48235294],\n",
       "         [0.52156866, 0.5294118 , 0.5254902 ],\n",
       "         [0.5176471 , 0.5137255 , 0.5058824 ],\n",
       "         ...,\n",
       "         [0.35686275, 0.39607844, 0.2509804 ],\n",
       "         [0.28627452, 0.30980393, 0.16862746],\n",
       "         [0.34117648, 0.3529412 , 0.23137255]],\n",
       "\n",
       "        ...,\n",
       "\n",
       "        [[0.14509805, 0.17254902, 0.10196079],\n",
       "         [0.19607843, 0.22745098, 0.14509805],\n",
       "         [0.15686275, 0.19215687, 0.10980392],\n",
       "         ...,\n",
       "         [0.7294118 , 0.6039216 , 0.5058824 ],\n",
       "         [0.6627451 , 0.5764706 , 0.48235294],\n",
       "         [0.59607846, 0.5294118 , 0.45882353]],\n",
       "\n",
       "        [[0.13725491, 0.16862746, 0.10980392],\n",
       "         [0.16862746, 0.2       , 0.14117648],\n",
       "         [0.18431373, 0.21568628, 0.15686275],\n",
       "         ...,\n",
       "         [0.72156864, 0.6039216 , 0.5019608 ],\n",
       "         [0.7254902 , 0.6156863 , 0.5294118 ],\n",
       "         [0.6627451 , 0.5568628 , 0.49019608]],\n",
       "\n",
       "        [[0.14901961, 0.18039216, 0.12941177],\n",
       "         [0.13725491, 0.16862746, 0.1254902 ],\n",
       "         [0.12941177, 0.16078432, 0.11764706],\n",
       "         ...,\n",
       "         [0.6784314 , 0.5568628 , 0.4745098 ],\n",
       "         [0.70980394, 0.57254905, 0.4862745 ],\n",
       "         [0.70980394, 0.57254905, 0.49803922]]],\n",
       "\n",
       "\n",
       "       [[[0.16078432, 0.18039216, 0.15294118],\n",
       "         [0.19215687, 0.21176471, 0.18431373],\n",
       "         [0.14509805, 0.16470589, 0.13725491],\n",
       "         ...,\n",
       "         [0.70980394, 0.56078434, 0.5176471 ],\n",
       "         [0.69803923, 0.5529412 , 0.4509804 ],\n",
       "         [0.7294118 , 0.58431375, 0.48235294]],\n",
       "\n",
       "        [[0.15686275, 0.1764706 , 0.14901961],\n",
       "         [0.14509805, 0.16470589, 0.13725491],\n",
       "         [0.12941177, 0.14901961, 0.1254902 ],\n",
       "         ...,\n",
       "         [0.7254902 , 0.5411765 , 0.5176471 ],\n",
       "         [0.7490196 , 0.5647059 , 0.49411765],\n",
       "         [0.7764706 , 0.6       , 0.50980395]],\n",
       "\n",
       "        [[0.16470589, 0.18431373, 0.15686275],\n",
       "         [0.1764706 , 0.2       , 0.16078432],\n",
       "         [0.16078432, 0.1882353 , 0.15686275],\n",
       "         ...,\n",
       "         [0.70980394, 0.4745098 , 0.47058824],\n",
       "         [0.7058824 , 0.48235294, 0.45490196],\n",
       "         [0.72156864, 0.5137255 , 0.48235294]],\n",
       "\n",
       "        ...,\n",
       "\n",
       "        [[0.42745098, 0.41960785, 0.26666668],\n",
       "         [0.42352942, 0.40784314, 0.2627451 ],\n",
       "         [0.42352942, 0.4       , 0.26666668],\n",
       "         ...,\n",
       "         [0.22745098, 0.3647059 , 0.14509805],\n",
       "         [0.3764706 , 0.5294118 , 0.27450982],\n",
       "         [0.4509804 , 0.62352943, 0.32156864]],\n",
       "\n",
       "        [[0.4117647 , 0.40392157, 0.2509804 ],\n",
       "         [0.42352942, 0.4       , 0.25882354],\n",
       "         [0.41568628, 0.39215687, 0.2509804 ],\n",
       "         ...,\n",
       "         [0.30980393, 0.4862745 , 0.21568628],\n",
       "         [0.4       , 0.5647059 , 0.26666668],\n",
       "         [0.38431373, 0.5568628 , 0.22352941]],\n",
       "\n",
       "        [[0.36078432, 0.3529412 , 0.2       ],\n",
       "         [0.39607844, 0.37254903, 0.23137255],\n",
       "         [0.42745098, 0.39607844, 0.25490198],\n",
       "         ...,\n",
       "         [0.33333334, 0.5019608 , 0.21960784],\n",
       "         [0.32156864, 0.48235294, 0.17254902],\n",
       "         [0.3764706 , 0.5411765 , 0.21176471]]],\n",
       "\n",
       "\n",
       "       ...,\n",
       "\n",
       "\n",
       "       [[[0.23921569, 0.20392157, 0.21568628],\n",
       "         [0.25882354, 0.22352941, 0.23529412],\n",
       "         [0.24313726, 0.21176471, 0.20392157],\n",
       "         ...,\n",
       "         [0.43529412, 0.4117647 , 0.34901962],\n",
       "         [0.41568628, 0.40392157, 0.3372549 ],\n",
       "         [0.49019608, 0.47843137, 0.4117647 ]],\n",
       "\n",
       "        [[0.2509804 , 0.21176471, 0.20784314],\n",
       "         [0.3137255 , 0.27450982, 0.27058825],\n",
       "         [0.28235295, 0.2627451 , 0.24705882],\n",
       "         ...,\n",
       "         [0.4627451 , 0.4392157 , 0.3764706 ],\n",
       "         [0.41960785, 0.40784314, 0.33333334],\n",
       "         [0.43137255, 0.42745098, 0.34509805]],\n",
       "\n",
       "        [[0.25490198, 0.21960784, 0.2       ],\n",
       "         [0.29803923, 0.27058825, 0.23921569],\n",
       "         [0.23137255, 0.21960784, 0.18431373],\n",
       "         ...,\n",
       "         [0.38431373, 0.36078432, 0.29803923],\n",
       "         [0.41960785, 0.41960785, 0.31764707],\n",
       "         [0.4509804 , 0.4509804 , 0.34901962]],\n",
       "\n",
       "        ...,\n",
       "\n",
       "        [[0.42352942, 0.42352942, 0.42352942],\n",
       "         [0.41960785, 0.42745098, 0.41568628],\n",
       "         [0.3764706 , 0.4       , 0.36078432],\n",
       "         ...,\n",
       "         [0.11372549, 0.07058824, 0.10196079],\n",
       "         [0.18039216, 0.13725491, 0.15294118],\n",
       "         [0.1764706 , 0.13725491, 0.14117648]],\n",
       "\n",
       "        [[0.42745098, 0.43529412, 0.43137255],\n",
       "         [0.43529412, 0.43529412, 0.43529412],\n",
       "         [0.36078432, 0.35686275, 0.34117648],\n",
       "         ...,\n",
       "         [0.1254902 , 0.10196079, 0.10196079],\n",
       "         [0.1764706 , 0.13725491, 0.14117648],\n",
       "         [0.21176471, 0.16470589, 0.18039216]],\n",
       "\n",
       "        [[0.38431373, 0.4       , 0.40392157],\n",
       "         [0.41568628, 0.42352942, 0.41960785],\n",
       "         [0.40784314, 0.39215687, 0.3882353 ],\n",
       "         ...,\n",
       "         [0.17254902, 0.16078432, 0.14117648],\n",
       "         [0.21176471, 0.18039216, 0.17254902],\n",
       "         [0.21176471, 0.16862746, 0.18431373]]],\n",
       "\n",
       "\n",
       "       [[[0.5803922 , 0.59607846, 0.60784316],\n",
       "         [0.5882353 , 0.60784316, 0.62352943],\n",
       "         [0.64705884, 0.6666667 , 0.6901961 ],\n",
       "         ...,\n",
       "         [0.37254903, 0.34509805, 0.27058825],\n",
       "         [0.34117648, 0.32941177, 0.2627451 ],\n",
       "         [0.34117648, 0.33333334, 0.27450982]],\n",
       "\n",
       "        [[0.54901963, 0.5686275 , 0.58431375],\n",
       "         [0.58431375, 0.6039216 , 0.61960787],\n",
       "         [0.61960787, 0.6392157 , 0.6627451 ],\n",
       "         ...,\n",
       "         [0.38039216, 0.35686275, 0.27058825],\n",
       "         [0.34901962, 0.34509805, 0.26666668],\n",
       "         [0.3372549 , 0.34117648, 0.27058825]],\n",
       "\n",
       "        [[0.5529412 , 0.5803922 , 0.6117647 ],\n",
       "         [0.5529412 , 0.5803922 , 0.6117647 ],\n",
       "         [0.6       , 0.6156863 , 0.6509804 ],\n",
       "         ...,\n",
       "         [0.36862746, 0.36862746, 0.27450982],\n",
       "         [0.34509805, 0.3529412 , 0.27058825],\n",
       "         [0.28627452, 0.2784314 , 0.21960784]],\n",
       "\n",
       "        ...,\n",
       "\n",
       "        [[0.62352943, 0.6392157 , 0.6431373 ],\n",
       "         [0.6313726 , 0.64705884, 0.6509804 ],\n",
       "         [0.6431373 , 0.64705884, 0.654902  ],\n",
       "         ...,\n",
       "         [0.40784314, 0.38431373, 0.39215687],\n",
       "         [0.40784314, 0.39215687, 0.35686275],\n",
       "         [0.37254903, 0.3647059 , 0.31764707]],\n",
       "\n",
       "        [[0.62352943, 0.6392157 , 0.6431373 ],\n",
       "         [0.63529414, 0.6509804 , 0.654902  ],\n",
       "         [0.64705884, 0.654902  , 0.6509804 ],\n",
       "         ...,\n",
       "         [0.39215687, 0.38039216, 0.36078432],\n",
       "         [0.41960785, 0.39215687, 0.36862746],\n",
       "         [0.38039216, 0.3529412 , 0.32941177]],\n",
       "\n",
       "        [[0.627451  , 0.6431373 , 0.64705884],\n",
       "         [0.61960787, 0.63529414, 0.6392157 ],\n",
       "         [0.64705884, 0.654902  , 0.6509804 ],\n",
       "         ...,\n",
       "         [0.4392157 , 0.42745098, 0.4       ],\n",
       "         [0.36078432, 0.32941177, 0.31764707],\n",
       "         [0.36862746, 0.32941177, 0.32156864]]],\n",
       "\n",
       "\n",
       "       [[[0.32941177, 0.3372549 , 0.28235295],\n",
       "         [0.27058825, 0.28627452, 0.22745098],\n",
       "         [0.30980393, 0.3137255 , 0.24313726],\n",
       "         ...,\n",
       "         [0.49411765, 0.49019608, 0.48235294],\n",
       "         [0.2784314 , 0.26666668, 0.3019608 ],\n",
       "         [0.16862746, 0.16470589, 0.1882353 ]],\n",
       "\n",
       "        [[0.35686275, 0.36078432, 0.30588236],\n",
       "         [0.32156864, 0.3254902 , 0.27058825],\n",
       "         [0.3137255 , 0.31764707, 0.25490198],\n",
       "         ...,\n",
       "         [0.37254903, 0.35686275, 0.36078432],\n",
       "         [0.19607843, 0.16862746, 0.2       ],\n",
       "         [0.15686275, 0.12941177, 0.15686275]],\n",
       "\n",
       "        [[0.30588236, 0.29411766, 0.23529412],\n",
       "         [0.3764706 , 0.3647059 , 0.30588236],\n",
       "         [0.3137255 , 0.31764707, 0.25490198],\n",
       "         ...,\n",
       "         [0.23529412, 0.21960784, 0.22352941],\n",
       "         [0.24313726, 0.19607843, 0.20392157],\n",
       "         [0.22352941, 0.16862746, 0.16470589]],\n",
       "\n",
       "        ...,\n",
       "\n",
       "        [[0.3764706 , 0.37254903, 0.3529412 ],\n",
       "         [0.36862746, 0.3647059 , 0.34901962],\n",
       "         [0.30980393, 0.29411766, 0.28235295],\n",
       "         ...,\n",
       "         [0.43529412, 0.43137255, 0.4509804 ],\n",
       "         [0.40392157, 0.40392157, 0.43529412],\n",
       "         [0.3764706 , 0.3882353 , 0.42352942]],\n",
       "\n",
       "        [[0.3529412 , 0.32156864, 0.30980393],\n",
       "         [0.40392157, 0.38431373, 0.37254903],\n",
       "         [0.34509805, 0.32941177, 0.31764707],\n",
       "         ...,\n",
       "         [0.41960785, 0.43529412, 0.44705883],\n",
       "         [0.42352942, 0.43529412, 0.4627451 ],\n",
       "         [0.4509804 , 0.45882353, 0.5058824 ]],\n",
       "\n",
       "        [[0.3882353 , 0.34901962, 0.34509805],\n",
       "         [0.37254903, 0.3372549 , 0.34117648],\n",
       "         [0.28235295, 0.25882354, 0.25882354],\n",
       "         ...,\n",
       "         [0.36862746, 0.4       , 0.40784314],\n",
       "         [0.4117647 , 0.42745098, 0.4627451 ],\n",
       "         [0.43529412, 0.44313726, 0.49019608]]]], dtype=float32)"
      ]
     },
     "execution_count": 9,
     "metadata": {},
     "output_type": "execute_result"
    }
   ],
   "source": [
    "all_images /= 255.0\n",
    "all_images"
   ]
  },
  {
   "cell_type": "code",
   "execution_count": 10,
   "metadata": {},
   "outputs": [],
   "source": [
    "train_images, test_images, train_labels, test_labels = train_test_split(all_images, all_labels, test_size=0.2, random_state=42)\n",
    "train_images, validation_images, train_labels, validation_labels = train_test_split(train_images, train_labels, test_size=0.2, random_state=42)"
   ]
  },
  {
   "cell_type": "code",
   "execution_count": 11,
   "metadata": {},
   "outputs": [
    {
     "data": {
      "text/plain": [
       "((931, 250, 250, 3), (292, 250, 250, 3), (233, 250, 250, 3))"
      ]
     },
     "execution_count": 11,
     "metadata": {},
     "output_type": "execute_result"
    }
   ],
   "source": [
    "train_images.shape, test_images.shape, validation_images.shape"
   ]
  },
  {
   "cell_type": "code",
   "execution_count": 12,
   "metadata": {},
   "outputs": [],
   "source": [
    "train_datagen = ImageDataGenerator(\n",
    "    rotation_range=20,\n",
    "    width_shift_range=0.2,\n",
    "    height_shift_range=0.2,\n",
    "    shear_range=0.2,\n",
    "    zoom_range=0.2,\n",
    "    horizontal_flip=True,\n",
    "    fill_mode='nearest'\n",
    ")\n",
    "\n",
    "test_datagen = ImageDataGenerator()"
   ]
  },
  {
   "cell_type": "code",
   "execution_count": 13,
   "metadata": {},
   "outputs": [],
   "source": [
    "train_generator = train_datagen.flow(train_images, train_labels, batch_size=batch_size)\n",
    "test_generator = test_datagen.flow(test_images, test_labels, batch_size=batch_size)\n",
    "validation_generator = test_datagen.flow(validation_images, validation_labels, batch_size=batch_size)"
   ]
  },
  {
   "cell_type": "code",
   "execution_count": 14,
   "metadata": {},
   "outputs": [
    {
     "name": "stdout",
     "output_type": "stream",
     "text": [
      "WARNING:tensorflow:From c:\\Users\\csang\\miniconda3\\envs\\fhgr\\lib\\site-packages\\keras\\src\\backend.py:873: The name tf.get_default_graph is deprecated. Please use tf.compat.v1.get_default_graph instead.\n",
      "\n",
      "WARNING:tensorflow:From c:\\Users\\csang\\miniconda3\\envs\\fhgr\\lib\\site-packages\\keras\\src\\layers\\pooling\\max_pooling2d.py:161: The name tf.nn.max_pool is deprecated. Please use tf.nn.max_pool2d instead.\n",
      "\n"
     ]
    }
   ],
   "source": [
    "model = Sequential([\n",
    "    Conv2D(32, (3, 3), activation='relu', input_shape=(250, 250, 3)),\n",
    "    MaxPooling2D(2, 2),\n",
    "    Conv2D(64, (3, 3), activation='relu'),\n",
    "    MaxPooling2D(2, 2),\n",
    "    Conv2D(128, (3, 3), activation='relu'),\n",
    "    MaxPooling2D(2, 2),\n",
    "    Flatten(),\n",
    "    Dense(128, activation='relu', kernel_regularizer='l2'),\n",
    "    BatchNormalization(),\n",
    "    Dense(1, activation='sigmoid')\n",
    "])\n"
   ]
  },
  {
   "cell_type": "code",
   "execution_count": 15,
   "metadata": {},
   "outputs": [],
   "source": [
    "model.compile(optimizer=Adam(), loss='binary_crossentropy', metrics=['accuracy'])"
   ]
  },
  {
   "cell_type": "code",
   "execution_count": 16,
   "metadata": {},
   "outputs": [
    {
     "name": "stdout",
     "output_type": "stream",
     "text": [
      "Model: \"sequential\"\n",
      "_________________________________________________________________\n",
      " Layer (type)                Output Shape              Param #   \n",
      "=================================================================\n",
      " conv2d (Conv2D)             (None, 248, 248, 32)      896       \n",
      "                                                                 \n",
      " max_pooling2d (MaxPooling2  (None, 124, 124, 32)      0         \n",
      " D)                                                              \n",
      "                                                                 \n",
      " conv2d_1 (Conv2D)           (None, 122, 122, 64)      18496     \n",
      "                                                                 \n",
      " max_pooling2d_1 (MaxPoolin  (None, 61, 61, 64)        0         \n",
      " g2D)                                                            \n",
      "                                                                 \n",
      " conv2d_2 (Conv2D)           (None, 59, 59, 128)       73856     \n",
      "                                                                 \n",
      " max_pooling2d_2 (MaxPoolin  (None, 29, 29, 128)       0         \n",
      " g2D)                                                            \n",
      "                                                                 \n",
      " flatten (Flatten)           (None, 107648)            0         \n",
      "                                                                 \n",
      " dense (Dense)               (None, 128)               13779072  \n",
      "                                                                 \n",
      " batch_normalization (Batch  (None, 128)               512       \n",
      " Normalization)                                                  \n",
      "                                                                 \n",
      " dense_1 (Dense)             (None, 1)                 129       \n",
      "                                                                 \n",
      "=================================================================\n",
      "Total params: 13872961 (52.92 MB)\n",
      "Trainable params: 13872705 (52.92 MB)\n",
      "Non-trainable params: 256 (1.00 KB)\n",
      "_________________________________________________________________\n"
     ]
    }
   ],
   "source": [
    "model.summary()"
   ]
  },
  {
   "cell_type": "code",
   "execution_count": 17,
   "metadata": {},
   "outputs": [
    {
     "name": "stdout",
     "output_type": "stream",
     "text": [
      "WARNING:tensorflow:From c:\\Users\\csang\\miniconda3\\envs\\fhgr\\lib\\site-packages\\keras\\src\\utils\\tf_utils.py:492: The name tf.ragged.RaggedTensorValue is deprecated. Please use tf.compat.v1.ragged.RaggedTensorValue instead.\n",
      "\n",
      "WARNING:tensorflow:From c:\\Users\\csang\\miniconda3\\envs\\fhgr\\lib\\site-packages\\keras\\src\\engine\\base_layer_utils.py:384: The name tf.executing_eagerly_outside_functions is deprecated. Please use tf.compat.v1.executing_eagerly_outside_functions instead.\n",
      "\n",
      "29/29 [==============================] - 14s 437ms/step - loss: 2.4282 - accuracy: 0.6185 - val_loss: 6.0637 - val_accuracy: 0.4643\n"
     ]
    }
   ],
   "source": [
    "history = model.fit(\n",
    "    train_generator,\n",
    "    steps_per_epoch=len(train_images) // batch_size,\n",
    "    epochs=1,\n",
    "    validation_data=validation_generator,\n",
    "    validation_steps=len(validation_images) // batch_size\n",
    ")"
   ]
  },
  {
   "cell_type": "code",
   "execution_count": 18,
   "metadata": {},
   "outputs": [
    {
     "name": "stdout",
     "output_type": "stream",
     "text": [
      "10/10 [==============================] - 1s 77ms/step - loss: 5.5955 - accuracy: 0.5034\n",
      "Testgenauigkeit: 0.5034, Testverlust: 5.5955\n"
     ]
    }
   ],
   "source": [
    "# Modell evaluieren\n",
    "test_loss, test_acc = model.evaluate(test_images, test_labels)\n",
    "print(f\"Testgenauigkeit: {test_acc:.4f}, Testverlust: {test_loss:.4f}\")"
   ]
  },
  {
   "cell_type": "code",
   "execution_count": 19,
   "metadata": {},
   "outputs": [
    {
     "data": {
      "image/png": "[encoded data removed]",
      "text/plain": [
       "<Figure size 1200x500 with 2 Axes>"
      ]
     },
     "metadata": {},
     "output_type": "display_data"
    }
   ],
   "source": [
    "plt.figure(figsize=(12, 5))\n",
    "\n",
    "plt.subplot(1, 2, 1)\n",
    "plt.plot(history.history['accuracy'])\n",
    "plt.plot(history.history['val_accuracy'])\n",
    "plt.title('Model accuracy')\n",
    "plt.ylabel('Accuracy')\n",
    "plt.xlabel('Epoch')\n",
    "plt.legend(['Train', 'Validation'], loc='upper left')\n",
    "\n",
    "plt.subplot(1, 2, 2)\n",
    "plt.plot(history.history['loss'])\n",
    "plt.plot(history.history['val_loss'])\n",
    "plt.title('Model loss')\n",
    "plt.ylabel('Loss')\n",
    "plt.xlabel('Epoch')\n",
    "plt.legend(['Train', 'Validation'], loc='upper left')\n",
    "\n",
    "\n",
    "plt.tight_layout()\n",
    "plt.show()\n"
   ]
  },
  {
   "cell_type": "code",
   "execution_count": 20,
   "metadata": {},
   "outputs": [
    {
     "name": "stdout",
     "output_type": "stream",
     "text": [
      "10/10 [==============================] - 1s 74ms/step\n",
      "              precision    recall  f1-score     support\n",
      "0              0.503425  1.000000  0.669704  147.000000\n",
      "1              0.000000  0.000000  0.000000  145.000000\n",
      "accuracy       0.503425  0.503425  0.503425    0.503425\n",
      "macro avg      0.251712  0.500000  0.334852  292.000000\n",
      "weighted avg   0.253436  0.503425  0.337145  292.000000\n",
      "50.34246575342466\n",
      "      Modell Accuracy Precision Recall F1-Score                       Date\n",
      "0  Basic CNN      50%       25%    50%      33% 2024-04-27 00:45:55.603480\n"
     ]
    },
    {
     "name": "stderr",
     "output_type": "stream",
     "text": [
      "c:\\Users\\csang\\miniconda3\\envs\\fhgr\\lib\\site-packages\\sklearn\\metrics\\_classification.py:1344: UndefinedMetricWarning: Precision and F-score are ill-defined and being set to 0.0 in labels with no predicted samples. Use `zero_division` parameter to control this behavior.\n",
      "  _warn_prf(average, modifier, msg_start, len(result))\n",
      "c:\\Users\\csang\\miniconda3\\envs\\fhgr\\lib\\site-packages\\sklearn\\metrics\\_classification.py:1344: UndefinedMetricWarning: Precision and F-score are ill-defined and being set to 0.0 in labels with no predicted samples. Use `zero_division` parameter to control this behavior.\n",
      "  _warn_prf(average, modifier, msg_start, len(result))\n",
      "c:\\Users\\csang\\miniconda3\\envs\\fhgr\\lib\\site-packages\\sklearn\\metrics\\_classification.py:1344: UndefinedMetricWarning: Precision and F-score are ill-defined and being set to 0.0 in labels with no predicted samples. Use `zero_division` parameter to control this behavior.\n",
      "  _warn_prf(average, modifier, msg_start, len(result))\n"
     ]
    }
   ],
   "source": [
    "predictions = model.predict(test_images)\n",
    "predictions = (predictions > 0.5)\n",
    "\n",
    "prediction_csv(test_labels, predictions, 'Basic CNN')"
   ]
  },
  {
   "cell_type": "code",
   "execution_count": 21,
   "metadata": {},
   "outputs": [
    {
     "data": {
      "image/png": "[encoded data removed]",
      "text/plain": [
       "<Figure size 640x480 with 2 Axes>"
      ]
     },
     "metadata": {},
     "output_type": "display_data"
    }
   ],
   "source": [
    "cm = confusion_matrix(test_labels, predictions)\n",
    "sns.heatmap(cm, annot=True, cmap='Blues', fmt='d', xticklabels=namelabels.values(), yticklabels=namelabels.values())\n",
    "plt.xlabel('Predicted Labels')\n",
    "plt.ylabel('True Labels')\n",
    "plt.title('Confusion Matrix - Basic CNN Model')\n",
    "plt.show()"
   ]
  }
 ],
 "metadata": {
  "kernelspec": {
   "display_name": "fhgr",
   "language": "python",
   "name": "python3"
  },
  "language_info": {
   "codemirror_mode": {
    "name": "ipython",
    "version": 3
   },
   "file_extension": ".py",
   "mimetype": "text/x-python",
   "name": "python",
   "nbconvert_exporter": "python",
   "pygments_lexer": "ipython3",
   "version": "3.10.9"
  }
 },
 "nbformat": 4,
 "nbformat_minor": 2
}
