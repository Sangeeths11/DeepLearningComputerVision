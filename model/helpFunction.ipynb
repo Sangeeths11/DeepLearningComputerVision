{
 "cells": [
  {
   "cell_type": "code",
   "execution_count": 4,
   "metadata": {},
   "outputs": [],
   "source": [
    "from sklearn.metrics import classification_report, confusion_matrix\n",
    "import numpy as np\n",
    "import matplotlib.pyplot as plt\n",
    "import seaborn as sns\n",
    "import pandas as pd\n",
    "import os"
   ]
  },
  {
   "cell_type": "code",
   "execution_count": 5,
   "metadata": {},
   "outputs": [],
   "source": [
    "def prediction_csv(test_labels, predictions, name):\n",
    "    report = classification_report(test_labels, predictions, output_dict=True)\n",
    "\n",
    "    df = pd.DataFrame(report).transpose()\n",
    "\n",
    "    print(df.head())\n",
    "\n",
    "    accuracy = df.loc['accuracy', 'support'] * 100\n",
    "    precision = df.loc['macro avg', 'precision'] * 100\n",
    "    recall = df.loc['macro avg', 'recall'] * 100\n",
    "    f1_score = df.loc['macro avg', 'f1-score'] * 100\n",
    "    \n",
    "\n",
    "    print(accuracy)\n",
    "    csv_data = {\n",
    "        'Modell': [f'{name}'],\n",
    "        'Accuracy': [f'{accuracy:.0f}%'],\n",
    "        'Precision': [f\"{precision:.0f}%\"],\n",
    "        'Recall': [f\"{recall:.0f}%\"],\n",
    "        'F1-Score': [f\"{f1_score:.0f}%\"],\n",
    "        'Date': [pd.Timestamp.now()]\n",
    "    }\n",
    "\n",
    "    result_df = pd.DataFrame(csv_data)\n",
    "    file_name = 'model_performance.csv'\n",
    "    if os.path.isfile(file_name):\n",
    "        result_df.to_csv(file_name, mode='a', header=False, index=False, sep=';')\n",
    "    else:\n",
    "        result_df.to_csv(file_name, mode='w', header=True, index=False, sep=';')\n",
    "\n",
    "    print(result_df)"
   ]
  },
  {
   "cell_type": "code",
   "execution_count": 6,
   "metadata": {},
   "outputs": [
    {
     "name": "stdout",
     "output_type": "stream",
     "text": [
      "\\begin{table}\n",
      "\\caption{Test Klassifikations Metriken}\n",
      "\\label{tab:model_performance}\n",
      "\\begin{tabular}{llllr}\n",
      "\\toprule\n",
      "Modell & Accuracy & Precision & Recall & F1-Score \\\\\n",
      "\\midrule\n",
      "ViT & 83\\% & 83\\% & 83\\% & 83.000000 \\\\\n",
      "Hybridmodel - ViT Lite - DeiT & 82\\% & 82\\% & 82\\% & 82.000000 \\\\\n",
      "Hybridmodel - ViT - DeiT & 82\\% & 82\\% & 82\\% & 82.000000 \\\\\n",
      "InceptionV3 & 82\\% & 83\\% & 82\\% & 82.000000 \\\\\n",
      "DeiT & 81\\% & 81\\% & 82\\% & 81.000000 \\\\\n",
      "ViT Lite & 79\\% & 79\\% & 79\\% & 79.000000 \\\\\n",
      "Basic CNN & 78\\% & 80\\% & 78\\% & 78.000000 \\\\\n",
      "\\bottomrule\n",
      "\\end{tabular}\n",
      "\\end{table}\n",
      "\n"
     ]
    },
    {
     "name": "stderr",
     "output_type": "stream",
     "text": [
      "/tmp/ipykernel_3247825/2667901450.py:20: DeprecationWarning: DataFrameGroupBy.apply operated on the grouping columns. This behavior is deprecated, and in a future version of pandas the grouping columns will be excluded from the operation. Either pass `include_groups=False` to exclude the groupings or explicitly select the grouping columns after groupby to silence this warning.\n",
      "  df = df.groupby('Modell').apply(lambda x: x.nlargest(1, 'F1-Score')).reset_index(drop=True)\n"
     ]
    }
   ],
   "source": [
    "def read_csv(file_name):\n",
    "    df = pd.read_csv(file_name, sep=';')\n",
    "    df['F1-Score'] = df['F1-Score'].str.rstrip('%').astype(float)\n",
    "\n",
    "    df = df.groupby('Modell').apply(lambda x: x.nlargest(1, 'F1-Score')).reset_index(drop=True)\n",
    "\n",
    "    df = df.drop(columns='Date')\n",
    "\n",
    "    df = df.sort_values(by='F1-Score', ascending=False)\n",
    "\n",
    "    for column in ['Accuracy', 'Precision', 'Recall']:\n",
    "        df[column] = df[column].str.replace('%', r'\\\\%', regex=True)\n",
    "\n",
    "    print(df.to_latex(index=False, caption='Test Klassifikations Metriken', label='tab:model_performance'))\n",
    "\n",
    "read_csv('model_performance.csv')\n"
   ]
  }
 ],
 "metadata": {
  "kernelspec": {
   "display_name": "fhgr",
   "language": "python",
   "name": "python3"
  },
  "language_info": {
   "codemirror_mode": {
    "name": "ipython",
    "version": 3
   },
   "file_extension": ".py",
   "mimetype": "text/x-python",
   "name": "python",
   "nbconvert_exporter": "python",
   "pygments_lexer": "ipython3",
   "version": "3.12.2"
  }
 },
 "nbformat": 4,
 "nbformat_minor": 2
}
