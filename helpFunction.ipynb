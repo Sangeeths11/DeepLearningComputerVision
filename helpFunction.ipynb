{
 "cells": [
  {
   "cell_type": "code",
   "execution_count": null,
   "metadata": {},
   "outputs": [],
   "source": [
    "from sklearn.metrics import classification_report, confusion_matrix\n",
    "import numpy as np\n",
    "import matplotlib.pyplot as plt\n",
    "import seaborn as sns\n",
    "import pandas as pd\n",
    "import os"
   ]
  },
  {
   "cell_type": "code",
   "execution_count": null,
   "metadata": {},
   "outputs": [],
   "source": [
    "def prediction_csv(test_labels, predictions, name):\n",
    "    report = classification_report(test_labels, predictions, output_dict=True)\n",
    "\n",
    "    df = pd.DataFrame(report).transpose()\n",
    "\n",
    "    print(df.head())\n",
    "\n",
    "    accuracy = df.loc['accuracy', 'support'] * 100\n",
    "    precision = df.loc['macro avg', 'precision'] * 100\n",
    "    recall = df.loc['macro avg', 'recall'] * 100\n",
    "    f1_score = df.loc['macro avg', 'f1-score'] * 100\n",
    "    \n",
    "\n",
    "    print(accuracy)\n",
    "    csv_data = {\n",
    "        'Modell': [f'{name}'],\n",
    "        'Accuracy': [f'{accuracy:.0f}%'],\n",
    "        'Precision': [f\"{precision:.0f}%\"],\n",
    "        'Recall': [f\"{recall:.0f}%\"],\n",
    "        'F1-Score': [f\"{f1_score:.0f}%\"],\n",
    "        'Date': [pd.Timestamp.now()]\n",
    "    }\n",
    "\n",
    "    result_df = pd.DataFrame(csv_data)\n",
    "    file_name = 'model_performance.csv'\n",
    "    if os.path.isfile(file_name):\n",
    "        result_df.to_csv(file_name, mode='a', header=False, index=False, sep=';')\n",
    "    else:\n",
    "        result_df.to_csv(file_name, mode='w', header=True, index=False, sep=';')\n",
    "\n",
    "    print(result_df)"
   ]
  }
 ],
 "metadata": {
  "kernelspec": {
   "display_name": "fhgr",
   "language": "python",
   "name": "python3"
  },
  "language_info": {
   "name": "python",
   "version": "3.10.9"
  }
 },
 "nbformat": 4,
 "nbformat_minor": 2
}
