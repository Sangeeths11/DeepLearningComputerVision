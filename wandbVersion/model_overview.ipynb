{
 "cells": [
  {
   "cell_type": "code",
   "execution_count": 1,
   "metadata": {},
   "outputs": [],
   "source": [
    "import pandas as pd\n",
    "\n",
    "import wandb"
   ]
  },
  {
   "cell_type": "markdown",
   "metadata": {},
   "source": [
    "# Sweep"
   ]
  },
  {
   "cell_type": "code",
   "execution_count": 2,
   "metadata": {},
   "outputs": [],
   "source": [
    "api = wandb.Api()"
   ]
  },
  {
   "cell_type": "code",
   "execution_count": 3,
   "metadata": {},
   "outputs": [],
   "source": [
    "SWEEPS = {\n",
    "    \"CNN-SWEEP\": \"silvan-wiedmer-fhgr/VisionTransformer/k1h9h3lh\",\n",
    "    \"INCEPTION-SWEEP\": \"silvan-wiedmer-fhgr/VisionTransformer/5ghtealo\",\n",
    "    \"VISION-TRANSFORMER-SWEEP\": \"silvan-wiedmer-fhgr/VisionTransformer/fpspjbrh\"\n",
    "}"
   ]
  },
  {
   "cell_type": "code",
   "execution_count": 4,
   "metadata": {},
   "outputs": [],
   "source": [
    "METRICS = [\n",
    "    \"test_acc\"\n",
    "]"
   ]
  },
  {
   "cell_type": "code",
   "execution_count": 5,
   "metadata": {},
   "outputs": [],
   "source": [
    "model_metrics = {\"Model\": [], \"Accuracy\": [], \"F1 Score\": []}"
   ]
  },
  {
   "cell_type": "code",
   "execution_count": 6,
   "metadata": {},
   "outputs": [
    {
     "name": "stdout",
     "output_type": "stream",
     "text": [
      "Best run for CNN-SWEEP lr_0.01_bs_16_do_0.20 with 0.7431507110595703 validation accuracy\n",
      "Best run for INCEPTION-SWEEP lr_0.0001_bs_16_do_0.40 with 0.8424657583236694 validation accuracy\n",
      "Best run for VISION-TRANSFORMER-SWEEP lr_0.001_bs_16_do_0.40 with 84.01826484018265 validation accuracy\n"
     ]
    }
   ],
   "source": [
    "for sweep_name, sweep_id in SWEEPS.items():\n",
    "    sweep = api.sweep(sweep_id)\n",
    "\n",
    "    runs = sorted(sweep.runs, key=lambda run: run.summary.get(METRICS[0], 0), reverse=True)\n",
    "    val_acc = runs[0].summary.get(METRICS[0], 0)\n",
    "    model_metrics[\"Model\"].append(sweep_name)\n",
    "    model_metrics[\"Accuracy\"].append(val_acc)\n",
    "    model_metrics[\"F1 Score\"].append(0)\n",
    "    print(f\"Best run for {sweep_name} {runs[0].name} with {val_acc} validation accuracy\")\n"
   ]
  },
  {
   "cell_type": "code",
   "execution_count": 7,
   "metadata": {},
   "outputs": [
    {
     "data": {
      "text/html": [
       "<div>\n",
       "<style scoped>\n",
       "    .dataframe tbody tr th:only-of-type {\n",
       "        vertical-align: middle;\n",
       "    }\n",
       "\n",
       "    .dataframe tbody tr th {\n",
       "        vertical-align: top;\n",
       "    }\n",
       "\n",
       "    .dataframe thead th {\n",
       "        text-align: right;\n",
       "    }\n",
       "</style>\n",
       "<table border=\"1\" class=\"dataframe\">\n",
       "  <thead>\n",
       "    <tr style=\"text-align: right;\">\n",
       "      <th></th>\n",
       "      <th>_wandb</th>\n",
       "      <th>system.memory_percent</th>\n",
       "      <th>_runtime</th>\n",
       "      <th>system.proc.memory.rssMB</th>\n",
       "      <th>system.proc.memory.availableMB</th>\n",
       "      <th>system.proc.memory.percent</th>\n",
       "      <th>_timestamp</th>\n",
       "      <th>system.network.sent</th>\n",
       "      <th>system.network.recv</th>\n",
       "      <th>system.disk./.usageGB</th>\n",
       "      <th>...</th>\n",
       "      <th>system.cpu.58.cpu_percent</th>\n",
       "      <th>system.cpu.57.cpu_percent</th>\n",
       "      <th>system.cpu.55.cpu_percent</th>\n",
       "      <th>system.cpu.8.cpu_percent</th>\n",
       "      <th>system.cpu.59.cpu_percent</th>\n",
       "      <th>system.cpu.38.cpu_percent</th>\n",
       "      <th>system.cpu.18.cpu_percent</th>\n",
       "      <th>system.cpu.17.cpu_percent</th>\n",
       "      <th>system.cpu.14.cpu_percent</th>\n",
       "      <th>system.cpu.30.cpu_percent</th>\n",
       "    </tr>\n",
       "  </thead>\n",
       "  <tbody>\n",
       "    <tr>\n",
       "      <th>0</th>\n",
       "      <td>True</td>\n",
       "      <td>2.674069</td>\n",
       "      <td>10.380331</td>\n",
       "      <td>2269.78125</td>\n",
       "      <td>498430.195312</td>\n",
       "      <td>0.440175</td>\n",
       "      <td>1.730402e+09</td>\n",
       "      <td>NaN</td>\n",
       "      <td>NaN</td>\n",
       "      <td>NaN</td>\n",
       "      <td>...</td>\n",
       "      <td>NaN</td>\n",
       "      <td>NaN</td>\n",
       "      <td>NaN</td>\n",
       "      <td>NaN</td>\n",
       "      <td>NaN</td>\n",
       "      <td>NaN</td>\n",
       "      <td>NaN</td>\n",
       "      <td>NaN</td>\n",
       "      <td>NaN</td>\n",
       "      <td>NaN</td>\n",
       "    </tr>\n",
       "    <tr>\n",
       "      <th>1</th>\n",
       "      <td>True</td>\n",
       "      <td>NaN</td>\n",
       "      <td>10.380472</td>\n",
       "      <td>NaN</td>\n",
       "      <td>NaN</td>\n",
       "      <td>NaN</td>\n",
       "      <td>1.730402e+09</td>\n",
       "      <td>706215.0</td>\n",
       "      <td>527529.0</td>\n",
       "      <td>NaN</td>\n",
       "      <td>...</td>\n",
       "      <td>NaN</td>\n",
       "      <td>NaN</td>\n",
       "      <td>NaN</td>\n",
       "      <td>NaN</td>\n",
       "      <td>NaN</td>\n",
       "      <td>NaN</td>\n",
       "      <td>NaN</td>\n",
       "      <td>NaN</td>\n",
       "      <td>NaN</td>\n",
       "      <td>NaN</td>\n",
       "    </tr>\n",
       "    <tr>\n",
       "      <th>2</th>\n",
       "      <td>True</td>\n",
       "      <td>NaN</td>\n",
       "      <td>10.382745</td>\n",
       "      <td>NaN</td>\n",
       "      <td>NaN</td>\n",
       "      <td>NaN</td>\n",
       "      <td>1.730402e+09</td>\n",
       "      <td>NaN</td>\n",
       "      <td>NaN</td>\n",
       "      <td>0.000015</td>\n",
       "      <td>...</td>\n",
       "      <td>NaN</td>\n",
       "      <td>NaN</td>\n",
       "      <td>NaN</td>\n",
       "      <td>NaN</td>\n",
       "      <td>NaN</td>\n",
       "      <td>NaN</td>\n",
       "      <td>NaN</td>\n",
       "      <td>NaN</td>\n",
       "      <td>NaN</td>\n",
       "      <td>NaN</td>\n",
       "    </tr>\n",
       "    <tr>\n",
       "      <th>3</th>\n",
       "      <td>True</td>\n",
       "      <td>NaN</td>\n",
       "      <td>10.386212</td>\n",
       "      <td>NaN</td>\n",
       "      <td>NaN</td>\n",
       "      <td>NaN</td>\n",
       "      <td>1.730402e+09</td>\n",
       "      <td>NaN</td>\n",
       "      <td>NaN</td>\n",
       "      <td>NaN</td>\n",
       "      <td>...</td>\n",
       "      <td>NaN</td>\n",
       "      <td>NaN</td>\n",
       "      <td>NaN</td>\n",
       "      <td>NaN</td>\n",
       "      <td>NaN</td>\n",
       "      <td>NaN</td>\n",
       "      <td>NaN</td>\n",
       "      <td>NaN</td>\n",
       "      <td>NaN</td>\n",
       "      <td>NaN</td>\n",
       "    </tr>\n",
       "    <tr>\n",
       "      <th>4</th>\n",
       "      <td>True</td>\n",
       "      <td>NaN</td>\n",
       "      <td>10.408836</td>\n",
       "      <td>NaN</td>\n",
       "      <td>NaN</td>\n",
       "      <td>NaN</td>\n",
       "      <td>1.730402e+09</td>\n",
       "      <td>NaN</td>\n",
       "      <td>NaN</td>\n",
       "      <td>NaN</td>\n",
       "      <td>...</td>\n",
       "      <td>0.090992</td>\n",
       "      <td>0.0</td>\n",
       "      <td>28.849722</td>\n",
       "      <td>2.997275</td>\n",
       "      <td>0.0</td>\n",
       "      <td>26.131117</td>\n",
       "      <td>29.406308</td>\n",
       "      <td>36.598891</td>\n",
       "      <td>0.363967</td>\n",
       "      <td>0.0</td>\n",
       "    </tr>\n",
       "  </tbody>\n",
       "</table>\n",
       "<p>5 rows × 105 columns</p>\n",
       "</div>"
      ],
      "text/plain": [
       "   _wandb  system.memory_percent   _runtime  system.proc.memory.rssMB  \\\n",
       "0    True               2.674069  10.380331                2269.78125   \n",
       "1    True                    NaN  10.380472                       NaN   \n",
       "2    True                    NaN  10.382745                       NaN   \n",
       "3    True                    NaN  10.386212                       NaN   \n",
       "4    True                    NaN  10.408836                       NaN   \n",
       "\n",
       "   system.proc.memory.availableMB  system.proc.memory.percent    _timestamp  \\\n",
       "0                   498430.195312                    0.440175  1.730402e+09   \n",
       "1                             NaN                         NaN  1.730402e+09   \n",
       "2                             NaN                         NaN  1.730402e+09   \n",
       "3                             NaN                         NaN  1.730402e+09   \n",
       "4                             NaN                         NaN  1.730402e+09   \n",
       "\n",
       "   system.network.sent  system.network.recv  system.disk./.usageGB  ...  \\\n",
       "0                  NaN                  NaN                    NaN  ...   \n",
       "1             706215.0             527529.0                    NaN  ...   \n",
       "2                  NaN                  NaN               0.000015  ...   \n",
       "3                  NaN                  NaN                    NaN  ...   \n",
       "4                  NaN                  NaN                    NaN  ...   \n",
       "\n",
       "   system.cpu.58.cpu_percent  system.cpu.57.cpu_percent  \\\n",
       "0                        NaN                        NaN   \n",
       "1                        NaN                        NaN   \n",
       "2                        NaN                        NaN   \n",
       "3                        NaN                        NaN   \n",
       "4                   0.090992                        0.0   \n",
       "\n",
       "   system.cpu.55.cpu_percent  system.cpu.8.cpu_percent  \\\n",
       "0                        NaN                       NaN   \n",
       "1                        NaN                       NaN   \n",
       "2                        NaN                       NaN   \n",
       "3                        NaN                       NaN   \n",
       "4                  28.849722                  2.997275   \n",
       "\n",
       "   system.cpu.59.cpu_percent  system.cpu.38.cpu_percent  \\\n",
       "0                        NaN                        NaN   \n",
       "1                        NaN                        NaN   \n",
       "2                        NaN                        NaN   \n",
       "3                        NaN                        NaN   \n",
       "4                        0.0                  26.131117   \n",
       "\n",
       "   system.cpu.18.cpu_percent  system.cpu.17.cpu_percent  \\\n",
       "0                        NaN                        NaN   \n",
       "1                        NaN                        NaN   \n",
       "2                        NaN                        NaN   \n",
       "3                        NaN                        NaN   \n",
       "4                  29.406308                  36.598891   \n",
       "\n",
       "   system.cpu.14.cpu_percent  system.cpu.30.cpu_percent  \n",
       "0                        NaN                        NaN  \n",
       "1                        NaN                        NaN  \n",
       "2                        NaN                        NaN  \n",
       "3                        NaN                        NaN  \n",
       "4                   0.363967                        0.0  \n",
       "\n",
       "[5 rows x 105 columns]"
      ]
     },
     "execution_count": 7,
     "metadata": {},
     "output_type": "execute_result"
    }
   ],
   "source": [
    "df_system_metrics = runs[0].history(stream=\"system\")\n",
    "df_system_metrics.head()"
   ]
  },
  {
   "cell_type": "code",
   "execution_count": 8,
   "metadata": {},
   "outputs": [
    {
     "data": {
      "text/plain": [
       "Index(['_wandb', 'system.memory_percent', '_runtime',\n",
       "       'system.proc.memory.rssMB', 'system.proc.memory.availableMB',\n",
       "       'system.proc.memory.percent', '_timestamp', 'system.network.sent',\n",
       "       'system.network.recv', 'system.disk./.usageGB',\n",
       "       ...\n",
       "       'system.cpu.58.cpu_percent', 'system.cpu.57.cpu_percent',\n",
       "       'system.cpu.55.cpu_percent', 'system.cpu.8.cpu_percent',\n",
       "       'system.cpu.59.cpu_percent', 'system.cpu.38.cpu_percent',\n",
       "       'system.cpu.18.cpu_percent', 'system.cpu.17.cpu_percent',\n",
       "       'system.cpu.14.cpu_percent', 'system.cpu.30.cpu_percent'],\n",
       "      dtype='object', length=105)"
      ]
     },
     "execution_count": 8,
     "metadata": {},
     "output_type": "execute_result"
    }
   ],
   "source": [
    "df_system_metrics.columns"
   ]
  },
  {
   "cell_type": "code",
   "execution_count": 9,
   "metadata": {},
   "outputs": [
    {
     "data": {
      "text/plain": [
       "0           NaN\n",
       "1           NaN\n",
       "2           NaN\n",
       "3           NaN\n",
       "4      3.691207\n",
       "         ...   \n",
       "105         NaN\n",
       "106         NaN\n",
       "107         NaN\n",
       "108         NaN\n",
       "109    3.745830\n",
       "Name: system.cpu, Length: 110, dtype: float64"
      ]
     },
     "execution_count": 9,
     "metadata": {},
     "output_type": "execute_result"
    }
   ],
   "source": [
    "df_system_metrics[\"system.cpu\"]"
   ]
  },
  {
   "cell_type": "code",
   "execution_count": 10,
   "metadata": {},
   "outputs": [
    {
     "data": {
      "text/html": [
       "<div>\n",
       "<style scoped>\n",
       "    .dataframe tbody tr th:only-of-type {\n",
       "        vertical-align: middle;\n",
       "    }\n",
       "\n",
       "    .dataframe tbody tr th {\n",
       "        vertical-align: top;\n",
       "    }\n",
       "\n",
       "    .dataframe thead th {\n",
       "        text-align: right;\n",
       "    }\n",
       "</style>\n",
       "<table border=\"1\" class=\"dataframe\">\n",
       "  <thead>\n",
       "    <tr style=\"text-align: right;\">\n",
       "      <th></th>\n",
       "      <th>Model</th>\n",
       "      <th>Accuracy</th>\n",
       "      <th>F1 Score</th>\n",
       "    </tr>\n",
       "  </thead>\n",
       "  <tbody>\n",
       "    <tr>\n",
       "      <th>0</th>\n",
       "      <td>CNN-SWEEP</td>\n",
       "      <td>0.743151</td>\n",
       "      <td>0</td>\n",
       "    </tr>\n",
       "    <tr>\n",
       "      <th>1</th>\n",
       "      <td>INCEPTION-SWEEP</td>\n",
       "      <td>0.842466</td>\n",
       "      <td>0</td>\n",
       "    </tr>\n",
       "    <tr>\n",
       "      <th>2</th>\n",
       "      <td>VISION-TRANSFORMER-SWEEP</td>\n",
       "      <td>84.018265</td>\n",
       "      <td>0</td>\n",
       "    </tr>\n",
       "  </tbody>\n",
       "</table>\n",
       "</div>"
      ],
      "text/plain": [
       "                      Model   Accuracy  F1 Score\n",
       "0                 CNN-SWEEP   0.743151         0\n",
       "1           INCEPTION-SWEEP   0.842466         0\n",
       "2  VISION-TRANSFORMER-SWEEP  84.018265         0"
      ]
     },
     "execution_count": 10,
     "metadata": {},
     "output_type": "execute_result"
    }
   ],
   "source": [
    "df_metrics = pd.DataFrame(model_metrics)\n",
    "df_metrics.head()"
   ]
  },
  {
   "cell_type": "code",
   "execution_count": 12,
   "metadata": {},
   "outputs": [],
   "source": [
    "df_metrics.to_latex(\n",
    "    index=False,\n",
    "    formatters={\"name\": str.upper},\n",
    "    float_format=\"{:.4f}\".format,\n",
    "    buf=\"model_metrics.tex\"\n",
    ")"
   ]
  }
 ],
 "metadata": {
  "kernelspec": {
   "display_name": ".venv",
   "language": "python",
   "name": "python3"
  },
  "language_info": {
   "codemirror_mode": {
    "name": "ipython",
    "version": 3
   },
   "file_extension": ".py",
   "mimetype": "text/x-python",
   "name": "python",
   "nbconvert_exporter": "python",
   "pygments_lexer": "ipython3",
   "version": "3.12.7"
  }
 },
 "nbformat": 4,
 "nbformat_minor": 2
}
