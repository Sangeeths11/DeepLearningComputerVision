{
 "cells": [
  {
   "cell_type": "code",
   "execution_count": 1,
   "metadata": {},
   "outputs": [],
   "source": [
    "import wandb\n",
    "import pandas as pd\n",
    "import numpy as np\n",
    "import seaborn as sns\n",
    "from pydantic import BaseModel\n",
    "import matplotlib.pyplot as plt"
   ]
  },
  {
   "cell_type": "code",
   "execution_count": 2,
   "metadata": {},
   "outputs": [],
   "source": [
    "class RunData(BaseModel):\n",
    "    run_path: str\n",
    "    train_accuracy_key: str = \"train_accuracy\""
   ]
  },
  {
   "cell_type": "code",
   "execution_count": 3,
   "metadata": {},
   "outputs": [],
   "source": [
    "RUNS: dict[str, RunData] = {\n",
    "    \"InceptionV3-No-Preprocessing-100-Epoch\": RunData(\n",
    "        run_path=\"silvan-wiedmer-fhgr/VisionTransformer/uxlv6ohn\"\n",
    "    ),\n",
    "    \"DeiT-No-Preprocessing-100-Epoch\": RunData(\n",
    "        run_path=\"silvan-wiedmer-fhgr/VisionTransformer/tudgtvng\"\n",
    "    ),\n",
    "    \"Hybrid-Preprocessing-100-Epoch\": RunData(\n",
    "        run_path=\"silvan-wiedmer-fhgr/VisionTransformer/arj9940n\"\n",
    "    ),\n",
    "}"
   ]
  },
  {
   "cell_type": "code",
   "execution_count": 4,
   "metadata": {},
   "outputs": [],
   "source": [
    "RUNS: dict[str, RunData] = {\n",
    "    \"CNN-Preprocessing\": RunData(run_path=\"silvan-wiedmer-fhgr/VisionTransformer/54zn25vw\", train_accuracy_key=\"epoch/accuracy\"),\n",
    "    \"CNN-No-Preprocessing\": RunData(run_path=\"silvan-wiedmer-fhgr/VisionTransformer/qjyk03li\", train_accuracy_key=\"epoch/accuracy\"),\n",
    "    \"InceptionV3-Preprocessing\": RunData(run_path=\"silvan-wiedmer-fhgr/VisionTransformer/7jsq6j0z\", train_accuracy_key=\"epoch/accuracy\"),\n",
    "    \"InceptionV3-No-Preprocessing\": RunData(run_path=\"silvan-wiedmer-fhgr/VisionTransformer/fudrwisc\", train_accuracy_key=\"epoch/accuracy\"),\n",
    "    \"ViT-Preprocessing\": RunData(run_path=\"silvan-wiedmer-fhgr/VisionTransformer/o0s7du2i\"),\n",
    "    \"ViT-No-Preprocessing\": RunData(run_path=\"silvan-wiedmer-fhgr/VisionTransformer/kd0mr7el\"),\n",
    "    \"ViT-Lite-Preprocessing\": RunData(run_path=\"silvan-wiedmer-fhgr/VisionTransformer/5622jway\"),\n",
    "    \"ViT-Lite-No-Preprocessing\": RunData(run_path=\"silvan-wiedmer-fhgr/VisionTransformer/2i5780q1\"),\n",
    "    \"DeiT-Preprocessing\": RunData(run_path=\"silvan-wiedmer-fhgr/VisionTransformer/uf8vz397\"),\n",
    "    \"DeiT-No-Preprocessing\": RunData(run_path=\"silvan-wiedmer-fhgr/VisionTransformer/q3kr64sx\"),\n",
    "    \"Hybrid-Preprocessing\": RunData(run_path=\"silvan-wiedmer-fhgr/VisionTransformer/mdw8ucu3\"),\n",
    "    \"Hybrid-No-Preprocessing\": RunData(run_path=\"silvan-wiedmer-fhgr/VisionTransformer/tttuvx7n\")\n",
    "}"
   ]
  },
  {
   "cell_type": "code",
   "execution_count": 5,
   "metadata": {},
   "outputs": [],
   "source": [
    "api = wandb.Api()"
   ]
  },
  {
   "cell_type": "code",
   "execution_count": 6,
   "metadata": {},
   "outputs": [],
   "source": [
    "def get_runtime_seconds(df: pd.DataFrame, key: str = \"_runtime\") -> np.float64:\n",
    "    return df[key].values[-1]"
   ]
  },
  {
   "cell_type": "code",
   "execution_count": 7,
   "metadata": {},
   "outputs": [],
   "source": [
    "def ws_to_kwh(ws: np.float64) -> np.float64:\n",
    "    return ws / (3600 * 1000)"
   ]
  },
  {
   "cell_type": "code",
   "execution_count": 8,
   "metadata": {},
   "outputs": [],
   "source": [
    "def calculate_sustainable_accuracy_metric(accuracy: float, electricity_ws: float, alpha: float = 5) -> float:\n",
    "    return accuracy**alpha / np.log10(electricity_ws)"
   ]
  },
  {
   "cell_type": "code",
   "execution_count": 9,
   "metadata": {},
   "outputs": [],
   "source": [
    "model_performance = {\n",
    "    \"Model\": [],\n",
    "    \"EnergyConsumptionkWh\": [],\n",
    "    \"EnergyConsumptionWs\": [],\n",
    "    \"TestAccuracy\": [],\n",
    "    \"TestF1\": [],\n",
    "    \"Epochs\": [],\n",
    "    \"Runtime\": []\n",
    "}"
   ]
  },
  {
   "cell_type": "code",
   "execution_count": null,
   "metadata": {},
   "outputs": [],
   "source": [
    "for run_name, run_data in RUNS.items():\n",
    "    print(run_name, run_data)\n",
    "    run = api.run(run_data.run_path)\n",
    "    df_system_metrics = run.history(stream=\"system\")\n",
    "\n",
    "    df_power_usage = pd.DataFrame({\"power\": df_system_metrics[\"system.gpu.0.powerWatts\"], \"runtime\": df_system_metrics[\"_runtime\"]})\n",
    "    df_power_usage.dropna(inplace=True)\n",
    "\n",
    "    model_performance[\"Model\"].append(run_name)\n",
    "    model_performance[\"EnergyConsumptionkWh\"].append(ws_to_kwh(np.trapezoid(df_power_usage[\"power\"], df_power_usage[\"runtime\"])))\n",
    "    model_performance[\"EnergyConsumptionWs\"].append(np.trapezoid(df_power_usage[\"power\"], df_power_usage[\"runtime\"]))\n",
    "    model_performance[\"TestAccuracy\"].append(run.summary.get(\"test_acc\") * 100)\n",
    "    model_performance[\"TestF1\"].append(run.summary.get(\"test_f1\") * 100)\n",
    "    model_performance[\"Epochs\"].append(len(run.history()[run_data.train_accuracy_key].dropna()))\n",
    "    model_performance[\"Runtime\"].append(run.summary.get(\"_runtime\"))"
   ]
  },
  {
   "cell_type": "code",
   "execution_count": null,
   "metadata": {},
   "outputs": [],
   "source": [
    "model_performance"
   ]
  },
  {
   "cell_type": "markdown",
   "metadata": {},
   "source": [
    "# Export Model Performance"
   ]
  },
  {
   "cell_type": "code",
   "execution_count": null,
   "metadata": {},
   "outputs": [],
   "source": [
    "df_model_performance = pd.DataFrame(model_performance)\n",
    "df_model_performance"
   ]
  },
  {
   "cell_type": "code",
   "execution_count": 13,
   "metadata": {},
   "outputs": [],
   "source": [
    "df_model_performance[[\"Model\", \"TestAccuracy\", \"TestF1\"]].sort_values(\n",
    "    by=\"TestAccuracy\", ascending=False\n",
    ").rename(columns={\"TestAccuracy\": \"Accuracy\", \"TestF1\":\"F1-Score\"}).to_latex(\n",
    "    index=False,\n",
    "    formatters={\"name\": str.upper},\n",
    "    float_format=\"{:.4f}\".format,\n",
    "    buf=\"final_model_metrics.tex\",\n",
    ")"
   ]
  },
  {
   "cell_type": "code",
   "execution_count": 14,
   "metadata": {},
   "outputs": [],
   "source": [
    "df_model_performance[\"AccuracyPerkWh\"] = df_model_performance[\"TestAccuracy\"] / df_model_performance[\"EnergyConsumptionkWh\"]"
   ]
  },
  {
   "cell_type": "code",
   "execution_count": 15,
   "metadata": {},
   "outputs": [],
   "source": [
    "df_model_performance[\"SAM\"] = calculate_sustainable_accuracy_metric(df_model_performance[\"TestAccuracy\"], df_model_performance[\"EnergyConsumptionWs\"], alpha=5)"
   ]
  },
  {
   "cell_type": "code",
   "execution_count": 16,
   "metadata": {},
   "outputs": [],
   "source": [
    "df_model_performance[\"Duration/Epoch\"] = df_model_performance[\"Runtime\"] / df_model_performance[\"Epochs\"]"
   ]
  },
  {
   "cell_type": "code",
   "execution_count": null,
   "metadata": {},
   "outputs": [],
   "source": [
    "df_model_performance"
   ]
  },
  {
   "cell_type": "code",
   "execution_count": 18,
   "metadata": {},
   "outputs": [],
   "source": [
    "from datetime import timedelta\n",
    "def timedelta_to_string(delta: float) -> str:\n",
    "    total_seconds = timedelta(seconds=delta).total_seconds()\n",
    "    days = total_seconds // (24 * 3600)\n",
    "    hours = (total_seconds % (24 * 3600)) // 3600\n",
    "    minutes = (total_seconds % 3600) // 60\n",
    "    seconds = total_seconds % 60\n",
    "\n",
    "    time_str = []\n",
    "\n",
    "    if days > 0:\n",
    "        time_str.append(f\"{int(days)} days\")\n",
    "    if hours > 0:\n",
    "        time_str.append(f\"{int(hours)} hours\")\n",
    "    if minutes > 0:\n",
    "        time_str.append(f\"{int(minutes)} min\")\n",
    "    if seconds > 0:\n",
    "        time_str.append(f\"{int(seconds)} s\")\n",
    "\n",
    "    return \" \".join(time_str)"
   ]
  },
  {
   "cell_type": "code",
   "execution_count": null,
   "metadata": {},
   "outputs": [],
   "source": [
    "timedelta_to_string(85.65)"
   ]
  },
  {
   "cell_type": "code",
   "execution_count": 20,
   "metadata": {},
   "outputs": [],
   "source": [
    "df_model_performance[\"Runtime\"] = df_model_performance[\"Runtime\"].apply(lambda x: timedelta_to_string(x))\n",
    "df_model_performance[\"Duration/Epoch\"] = df_model_performance[\"Duration/Epoch\"].apply(lambda x: timedelta_to_string(x))"
   ]
  },
  {
   "cell_type": "code",
   "execution_count": null,
   "metadata": {},
   "outputs": [],
   "source": [
    "df_model_performance[[\"Model\", \"Epochs\", \"Runtime\", \"Duration/Epoch\"]].to_latex(\n",
    "    index=False,\n",
    "    formatters={\"name\": str.upper},\n",
    "    float_format=\"{:.4f}\".format,\n",
    "    buf=\"final_model_runtime.tex\",\n",
    ")"
   ]
  },
  {
   "cell_type": "code",
   "execution_count": null,
   "metadata": {},
   "outputs": [],
   "source": [
    "ax = sns.barplot(df_model_performance.sort_values([\"SAM\"]), x=\"SAM\", y=\"Model\", orient=\"y\")\n",
    "ax.set_title(\"SAM with alpha = 1\")"
   ]
  },
  {
   "cell_type": "markdown",
   "metadata": {},
   "source": [
    "- Log 10 of Energy Consumption in Ws"
   ]
  },
  {
   "cell_type": "code",
   "execution_count": 67,
   "metadata": {},
   "outputs": [],
   "source": [
    "df_model_performance[\"EnergyConsumptionWs\"] = np.log10(df_model_performance[\"EnergyConsumptionWs\"])"
   ]
  },
  {
   "cell_type": "code",
   "execution_count": null,
   "metadata": {},
   "outputs": [],
   "source": [
    "ax = sns.scatterplot(df_model_performance, x=\"EnergyConsumptionWs\", y=\"TestAccuracy\", hue=\"Model\")\n",
    "ax.set_title(\"Test Accuracy vs Energy Consumption\")\n",
    "ax.set(xlabel=\"Energy Consumption [Ws]\", ylabel=\"Accuracy [%]\")\n",
    "ax.legend(loc=\"upper center\", bbox_to_anchor=(0.5, -0.2), ncol=3)\n",
    "plt.savefig(\"../images/AccuracyPerEnergy.png\", dpi=600, bbox_inches=\"tight\")"
   ]
  },
  {
   "cell_type": "code",
   "execution_count": null,
   "metadata": {},
   "outputs": [],
   "source": [
    "ax = sns.scatterplot(df_model_performance, x=\"EnergyConsumptionWs\", y=\"Epochs\", hue=\"Model\")\n",
    "ax.set_title(\"Epochs vs Energy Consumption\")\n",
    "ax.set(xlabel=\"Energy Consumption [Ws]\", ylabel=\"Epochs [1]\")\n",
    "ax.legend(loc=\"upper center\", bbox_to_anchor=(0.5, -0.2), ncol=3)"
   ]
  },
  {
   "cell_type": "code",
   "execution_count": null,
   "metadata": {},
   "outputs": [],
   "source": [
    "ax = sns.scatterplot(df_model_performance, x=\"Epochs\", y=\"TestAccuracy\", hue=\"Model\")\n",
    "ax.set_title(\"Test Accuracy vs Epochs\")\n",
    "ax.set(xlabel=\"Epochs [1]\", ylabel=\"Test Accuracy [%]\")\n",
    "ax.legend(loc=\"upper center\", bbox_to_anchor=(0.5, -0.2), ncol=3)"
   ]
  },
  {
   "cell_type": "code",
   "execution_count": null,
   "metadata": {},
   "outputs": [],
   "source": [
    "ax = sns.scatterplot(df_model_performance, x=\"Runtime\", y=\"TestAccuracy\", hue=\"Model\")\n",
    "ax.set_title(\"Test Accuracy vs Runtime\")\n",
    "ax.set(xlabel=\"Runtime [s]\", ylabel=\"Test Accuracy [%]\")\n",
    "ax.legend(loc=\"upper center\", bbox_to_anchor=(0.5, -0.2), ncol=3)\n",
    "plt.savefig(\"../images/AccuracyPerSecond.png\", dpi=600, bbox_inches=\"tight\")"
   ]
  }
 ],
 "metadata": {
  "kernelspec": {
   "display_name": ".venv",
   "language": "python",
   "name": "python3"
  },
  "language_info": {
   "codemirror_mode": {
    "name": "ipython",
    "version": 3
   },
   "file_extension": ".py",
   "mimetype": "text/x-python",
   "name": "python",
   "nbconvert_exporter": "python",
   "pygments_lexer": "ipython3",
   "version": "3.12.7"
  }
 },
 "nbformat": 4,
 "nbformat_minor": 2
}
